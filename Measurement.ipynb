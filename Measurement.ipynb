{
 "cells": [
  {
   "cell_type": "code",
   "execution_count": 1,
   "id": "c0be9d26-dfe8-45f0-8e2c-94924175712d",
   "metadata": {},
   "outputs": [
    {
     "ename": "ModuleNotFoundError",
     "evalue": "No module named 'sounddevice'",
     "output_type": "error",
     "traceback": [
      "\u001b[1;31m---------------------------------------------------------------------------\u001b[0m",
      "\u001b[1;31mModuleNotFoundError\u001b[0m                       Traceback (most recent call last)",
      "Cell \u001b[1;32mIn[1], line 2\u001b[0m\n\u001b[0;32m      1\u001b[0m \u001b[38;5;28;01mimport\u001b[39;00m \u001b[38;5;21;01mnumpy\u001b[39;00m \u001b[38;5;28;01mas\u001b[39;00m \u001b[38;5;21;01mnp\u001b[39;00m\n\u001b[1;32m----> 2\u001b[0m \u001b[38;5;28;01mimport\u001b[39;00m \u001b[38;5;21;01msounddevice\u001b[39;00m \u001b[38;5;28;01mas\u001b[39;00m \u001b[38;5;21;01msd\u001b[39;00m\n\u001b[0;32m      3\u001b[0m \u001b[38;5;28;01mimport\u001b[39;00m \u001b[38;5;21;01mdatetime\u001b[39;00m\n\u001b[0;32m      4\u001b[0m \u001b[38;5;28;01mfrom\u001b[39;00m \u001b[38;5;21;01mscipy\u001b[39;00m\u001b[38;5;21;01m.\u001b[39;00m\u001b[38;5;21;01msignal\u001b[39;00m \u001b[38;5;28;01mimport\u001b[39;00m butter, lfilter\n",
      "\u001b[1;31mModuleNotFoundError\u001b[0m: No module named 'sounddevice'"
     ]
    }
   ],
   "source": [
    "import numpy as np\n",
    "import sounddevice as sd\n",
    "import datetime\n",
    "from scipy.signal import butter, lfilter\n",
    "from scipy.io import wavfile\n",
    "\n",
    "def generate_white_noise(duration, sample_rate=44100):\n",
    "    \"\"\"\"\"\"\n",
    "    white_noise = np.random.randn(int(sample_rate * duration))\n",
    "    return white_noise\n",
    "\n",
    "def band_limited_white_noise(low, high, duration, sample_rate=44100):\n",
    "    \"\"\"Apply a butterworth filter\"\"\"\n",
    "    white_noise = generate_white_noise(duration, sample_rate)\n",
    "    nyq = 0.5 * sample_rate\n",
    "    low = low / nyq\n",
    "    high = high / nyq\n",
    "    b, a = butter(5, [low, high], btype='band')\n",
    "    band_limited = lfilter(b, a, white_noise)\n",
    "    return band_limited\n",
    "\n",
    "def pseudo_white_noise(low, high, repetitions, duration, sample_rate=44100):\n",
    "    \"\"\"Generate pseudoNoise\"\"\"\n",
    "    # use sinusoidal signal with random phase as pseudo noise\n",
    "    # t = np.linspace(0, duration, int(sample_rate * duration), endpoint=False)\n",
    "    # pseudo_noise = np.sin(2 * np.pi * 20 * t + np.random.uniform(0, 2 * np.pi))\n",
    "    band_limited_noise = band_limited_white_noise(low, high, duration/repetitions)\n",
    "    pseudo_noise = np.tile(band_limited_noise, repetitions)\n",
    "    # store the sound signal\n",
    "    # Format the date and time\n",
    "    filename = f\"pseudoNoise_{low}_{high}.wav\"\n",
    "    wavfile.write(filename, sample_rate, pseudo_noise)\n",
    "    return pseudo_noise\n",
    "\n",
    "def play_sound(sound, sample_rate=44100):\n",
    "    \"\"\"Play the sound\"\"\"\n",
    "    sd.play(sound, samplerate=sample_rate)\n",
    "    sd.wait()"
   ]
  },
  {
   "cell_type": "code",
   "execution_count": 3,
   "id": "1850cf4e-1f85-4ad9-9156-49d6026b7252",
   "metadata": {},
   "outputs": [],
   "source": [
    "\n",
    "# generate and play white noise\n",
    "# for i in np.arange(10):\n",
    "duration = 100  # 10秒\n",
    "band_limited_noise = band_limited_white_noise(50, 8000, duration)\n",
    "play_sound(band_limited_noise)"
   ]
  },
  {
   "cell_type": "code",
   "execution_count": 2,
   "id": "b28146ac-0a89-43b3-9b6b-fc73d3283f20",
   "metadata": {},
   "outputs": [
    {
     "ename": "NameError",
     "evalue": "name 'duration' is not defined",
     "output_type": "error",
     "traceback": [
      "\u001b[1;31m---------------------------------------------------------------------------\u001b[0m",
      "\u001b[1;31mNameError\u001b[0m                                 Traceback (most recent call last)",
      "Cell \u001b[1;32mIn[2], line 6\u001b[0m\n\u001b[0;32m      4\u001b[0m \u001b[38;5;66;03m# 假设你的数据如下：\u001b[39;00m\n\u001b[0;32m      5\u001b[0m sample_rate\u001b[38;5;241m=\u001b[39m\u001b[38;5;241m44100\u001b[39m\n\u001b[1;32m----> 6\u001b[0m time_signal \u001b[38;5;241m=\u001b[39m np\u001b[38;5;241m.\u001b[39marange(\u001b[38;5;241m0\u001b[39m, \u001b[43mduration\u001b[49m, \u001b[38;5;241m1\u001b[39m\u001b[38;5;241m/\u001b[39msample_rate)\n\u001b[0;32m      7\u001b[0m data_signal \u001b[38;5;241m=\u001b[39m band_limited_noise  \u001b[38;5;66;03m# 一个简单的正弦波作为数据信号的例子\u001b[39;00m\n\u001b[0;32m      9\u001b[0m \u001b[38;5;66;03m# FFT\u001b[39;00m\n",
      "\u001b[1;31mNameError\u001b[0m: name 'duration' is not defined"
     ]
    }
   ],
   "source": [
    "import numpy as np\n",
    "import matplotlib.pyplot as plt\n",
    "\n",
    "# parameters：\n",
    "sample_rate=44100\n",
    "time_signal = np.arange(0, duration, 1/sample_rate)\n",
    "data_signal = band_limited_noise \n",
    "\n",
    "# FFT\n",
    "fft_result = np.fft.fft(data_signal)\n",
    "frequencies = np.fft.fftfreq(len(fft_result), d=(time_signal[1] - time_signal[0]))  # 计算频率\n",
    "\n",
    "# choose the frequency range of excitation signal\n",
    "min_freq = 0\n",
    "max_freq = 16000\n",
    "mask = (frequencies >= min_freq) & (frequencies <= max_freq)\n",
    "\n",
    "plt.figure(figsize=(12, 6))\n",
    "plt.subplot(2, 1, 1)\n",
    "plt.plot(time_signal, data_signal)\n",
    "plt.title('Original Signal')\n",
    "plt.xlabel('Time [s]')\n",
    "plt.ylabel('Amplitude')\n",
    "\n",
    "plt.subplot(2, 1, 2)\n",
    "plt.plot(frequencies[mask], np.abs(fft_result[mask]))\n",
    "plt.title('Magnitude Spectrum')\n",
    "plt.xlabel('Frequency [Hz]')\n",
    "plt.ylabel('Magnitude')\n",
    "plt.tight_layout()\n",
    "plt.show()\n"
   ]
  },
  {
   "cell_type": "code",
   "execution_count": 25,
   "id": "b93d9a6a-719e-461c-95e7-b06191dae102",
   "metadata": {},
   "outputs": [],
   "source": [
    "# Generate pseudo white noise\n",
    "repetitions = 5\n",
    "duration = 10\n",
    "pseudo_noise = pseudo_white_noise(2000, 4000, repetitions, duration)"
   ]
  },
  {
   "cell_type": "code",
   "execution_count": 27,
   "id": "e5f4901d-2ceb-4bf0-8823-d1d1441bf3b1",
   "metadata": {},
   "outputs": [],
   "source": [
    "# Play pseudo White Noise\n",
    "sample_rate, pseudo_noise = wavfile.read(\"pseudoNoise_2000_4000.wav\")\n",
    "\n",
    "repetitions = 1\n",
    "pseudo_noise = np.tile(pseudo_noise, repetitions)\n",
    "play_sound(pseudo_noise)\n"
   ]
  }
 ],
 "metadata": {
  "kernelspec": {
   "display_name": "Python 3 (ipykernel)",
   "language": "python",
   "name": "python3"
  },
  "language_info": {
   "codemirror_mode": {
    "name": "ipython",
    "version": 3
   },
   "file_extension": ".py",
   "mimetype": "text/x-python",
   "name": "python",
   "nbconvert_exporter": "python",
   "pygments_lexer": "ipython3",
   "version": "3.10.9"
  }
 },
 "nbformat": 4,
 "nbformat_minor": 5
}
