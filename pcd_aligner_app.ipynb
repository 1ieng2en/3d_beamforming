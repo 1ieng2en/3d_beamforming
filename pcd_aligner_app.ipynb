{
 "cells": [
  {
   "cell_type": "markdown",
   "metadata": {},
   "source": [
    "This is a APP-like Jupyter lab code, after the initial group, most of the block is stand-alone with initialize block running aforehead - which means the blocks are parallal.\n",
    "\n",
    "Structure of this code contain the following:\n",
    "### 1. Initializing\n",
    "- **Require for the user's action, Read/Load**: Read is for the raw scan, as the first time processing from the direct output folder of Kinfu Scan; Load is for the secondary scan.\n",
    "- **if Read: Read the raw PCD from output folder**\n",
    "- **if Load: Loading existing PCD**\n",
    "- **Both method include the croping ability, the user can crop the geometry after lock (using K), and cut (using C)**"
   ]
  },
  {
   "cell_type": "code",
   "execution_count": 1,
   "metadata": {
    "notebookRunGroups": {
     "groupValue": "1"
    }
   },
   "outputs": [
    {
     "name": "stdout",
     "output_type": "stream",
     "text": [
      "Jupyter environment detected. Enabling Open3D WebVisualizer.\n",
      "[Open3D INFO] WebRTC GUI backend enabled.\n",
      "[Open3D INFO] WebRTCWindowSystem: HTTP handshake server disabled.\n",
      "Modules to reload:\n",
      "pcd_aligner\n",
      "\n",
      "Modules to skip:\n",
      "\n"
     ]
    }
   ],
   "source": [
    "%load_ext autoreload\n",
    "%aimport pcd_aligner\n",
    "%autoreload 1\n",
    "%aimport\n",
    "\n",
    "import pcd_aligner\n",
    "import importlib"
   ]
  },
  {
   "cell_type": "code",
   "execution_count": 8,
   "metadata": {
    "notebookRunGroups": {
     "groupValue": "1"
    }
   },
   "outputs": [
    {
     "name": "stdout",
     "output_type": "stream",
     "text": [
      "f:\\github\\3d_beamforming\\pcd_aligner.py\n",
      "load processed file\n",
      "load post PCD file\n",
      "0: postPCD\\vvs-20kHz-12.8k-rightEar-realigned_20231120_163043\n",
      "1: postPCD\\AP-align_20231216_122743\n",
      "2: postPCD\\AP-modify_20231208_161053\n",
      "3: postPCD\\AP-noy-187_20231208_162247\n",
      "4: postPCD\\AP-noy_20231208_161813\n",
      "5: postPCD\\AP-side-0.7m-highRes_20231208_154153\n",
      "6: postPCD\\GL-0.7m-center_20240124_143039\n",
      "7: postPCD\\GL_0.53_frontside_20240122_135643\n",
      "8: postPCD\\HP-hr-0.4m-rc_20231211_150219\n",
      "9: postPCD\\HP-rc-side_20231211_151710\n",
      "10: postPCD\\HP-side~0.4m-hr_20231211_143359\n",
      "11: postPCD\\HP-vvs-0.7_20231216_132553\n",
      "12: postPCD\\HP-vvs_20231227_142812\n",
      "13: postPCD\\HP1-0.7m-backlose_20240124_150825\n",
      "14: postPCD\\HP1-0.7m-center-frontlose_20240124_144133\n",
      "15: postPCD\\HP1-goodseal-HATSmic-0.75m_20240215_164054\n",
      "16: postPCD\\HP2-0.43m-center_20240124_115402\n",
      "17: postPCD\\HP2-0.53-side-shift_20240124_112646\n",
      "18: postPCD\\HP2-0.70m-center_20240124_130648\n",
      "19: postPCD\\JABRA-PCD\n",
      "20: postPCD\\LS-PCD\n",
      "21: postPCD\\LSUC-0.7m_20240214_142207\n",
      "22: postPCD\\test-_20231227_135151\n",
      "23: postPCD\\testJABRA_20240131_123718\n",
      "24: postPCD\\FINAL-PCD\n",
      "25: postPCD\\HP1-0.75m_20240306_155707\n",
      "26: postPCD\\LS-0.65m-2.83v_20240306_131533\n",
      "27: postPCD\\LS-trans_init_20240306_111659\n",
      "28: postPCD\\LS-2.83v-crop_20240308_233248\n",
      "For point selecting\n",
      "1) Please pick points using [shift + left click]\n",
      "   Press [shift + right click] to undo point picking\n",
      "2) After picking points, press 'Q' to close the window\n",
      "For crop the model\n",
      "Press Y to switch to the ortho view, \n",
      " K to lock the view and pick cropping area \n",
      " C to crop \n",
      " F to free view\n",
      "\n",
      " After picking points, press Q to quit, cropped model will be saved in variable \"pcd\"\n"
     ]
    },
    {
     "data": {
      "text/plain": [
       "PointCloud with 32509 points."
      ]
     },
     "execution_count": 8,
     "metadata": {},
     "output_type": "execute_result"
    }
   ],
   "source": [
    "\n",
    "print(pcd_aligner.__file__)\n",
    "importlib.reload(pcd_aligner)\n",
    "import open3d as o3d\n",
    "\n",
    "user_input = input(\"Do you want start from a raw scan? (y/n\")\n",
    "if user_input.lower() == 'y':\n",
    "    print(\"load raw file\")\n",
    "    ply_file_path_folder = 'C:/ZIM/MasterThesisProject/Stage1/Azure-Kinect-Samples/opencv-kinfu-samples/x64/Release/'  # raw file path\n",
    "    processor = pcd_aligner.PointCloud_PreProcessor(ply_file_path_folder)\n",
    "    processor.pcd_read()\n",
    "else:\n",
    "    print(\"load processed file\")\n",
    "    user_input = input(\"Do you want go from a pre PCD (y/n)?\")\n",
    "    if user_input.lower() == 'y':\n",
    "        print(\"load pre PCD file\")\n",
    "        ply_file_path_folder = 'PointCloud'\n",
    "        processor = pcd_aligner.PointCloud_PreProcessor(ply_file_path_folder)\n",
    "        processor.pcd_load()\n",
    "    else:\n",
    "        print(\"load post PCD file\")\n",
    "        ply_file_path_folder = 'postPCD'\n",
    "        processor = pcd_aligner.PointCloud_PreProcessor(ply_file_path_folder)\n",
    "        file_to_view = processor.read_and_choose(filetype='')\n",
    "        processor.pcd = o3d.io.read_point_cloud(f'{file_to_view}/model_2.ply')\n",
    "        processor.pcd_mic = o3d.io.read_point_cloud(f'{file_to_view}/model_0.ply')\n",
    "        \n",
    "processor.pcd_crop(title='crop')"
   ]
  },
  {
   "cell_type": "markdown",
   "metadata": {},
   "source": [
    "\n",
    "### 2. Coordinate allign\n"
   ]
  },
  {
   "cell_type": "code",
   "execution_count": 58,
   "metadata": {},
   "outputs": [
    {
     "name": "stdout",
     "output_type": "stream",
     "text": [
      "For point selecting\n",
      "1) Please pick points using [shift + left click]\n",
      "   Press [shift + right click] to undo point picking\n",
      "2) After picking points, press 'Q' to close the window\n",
      "For crop the model\n",
      "Press Y to switch to the ortho view, \n",
      " K to lock the view and pick cropping area \n",
      " C to crop \n",
      " F to free view\n",
      "\n",
      " After picking points, press Q to quit, cropped model will be saved in variable \"pcd\"\n",
      "[Open3D WARNING] GLFW Error: WGL: Failed to make context current: The handle is invalid. \n",
      "[Open3D WARNING] GLFW Error: WGL: Failed to make context current: The handle is invalid. \n",
      "[Open3D WARNING] GLFW Error: WGL: Failed to make context current: The handle is invalid. \n",
      "[Open3D INFO] Picked point #110368 (-0.27, 0.27, 0.75) to add in queue.\n",
      "[Open3D INFO] Picked point #28698 (-0.48, 0.31, 0.62) to add in queue.\n",
      "[Open3D INFO] Picked point #13600 (-0.49, 0.29, 0.81) to add in queue.\n",
      "\n",
      "Picked points: [(-0.27, 0.27, 0.75), (-0.48, 0.31, 0.62), (-0.49, 0.29, 0.81)]\n",
      "[Open3D WARNING] GLFW Error: WGL: Failed to make context current: The handle is invalid. \n",
      "[Open3D WARNING] GLFW Error: WGL: Failed to make context current: The handle is invalid. \n"
     ]
    },
    {
     "data": {
      "text/plain": [
       "(PointCloud with 121875 points.,\n",
       " [(-0.27, 0.27, 0.75), (-0.48, 0.31, 0.62), (-0.49, 0.29, 0.81)])"
      ]
     },
     "execution_count": 58,
     "metadata": {},
     "output_type": "execute_result"
    }
   ],
   "source": [
    "#processor.pcd_crop(pcd = \"cpcd\", title=\"coordinate allignment - copy the view direction and pick coordinate points\")\n",
    "processor.coordinates_align()"
   ]
  },
  {
   "cell_type": "markdown",
   "metadata": {},
   "source": [
    "### 4. Geometry Allign\n"
   ]
  },
  {
   "cell_type": "code",
   "execution_count": 6,
   "metadata": {},
   "outputs": [
    {
     "name": "stdout",
     "output_type": "stream",
     "text": [
      "[Open3D WARNING] [AddGeometry] Invalid pointer. Possibly a null pointer or None was passed in.\n",
      "[Open3D WARNING] [DrawGeometries] Failed adding geometry.\n",
      "[Open3D WARNING] [DrawGeometries] Possibly due to bad geometry or wrong geometry type.\n"
     ]
    }
   ],
   "source": [
    "# normally, the red point should be at the directly up from the origin point\n",
    "processor.load_mic_array()\n",
    "# mesh frame color is X: red, Y: green, Z: blue.\n",
    "processor.pcd_show(pcd = \"mic\")"
   ]
  },
  {
   "cell_type": "code",
   "execution_count": 55,
   "metadata": {},
   "outputs": [
    {
     "name": "stdout",
     "output_type": "stream",
     "text": [
      "For point selecting\n",
      "1) Please pick points using [shift + left click]\n",
      "   Press [shift + right click] to undo point picking\n",
      "2) After picking points, press 'Q' to close the window\n",
      "For crop the model\n",
      "Press Y to switch to the ortho view, \n",
      " K to lock the view and pick cropping area \n",
      " C to crop \n",
      " F to free view\n",
      "\n",
      " After picking points, press Q to quit, cropped model will be saved in variable \"pcd\"\n",
      "[Open3D WARNING] GLFW Error: WGL: Failed to make context current: The requested transformation operation is not supported. \n",
      "[Open3D WARNING] GLFW Error: WGL: Failed to make context current: The requested transformation operation is not supported. \n",
      "[Open3D WARNING] GLFW Error: WGL: Failed to make context current: The requested transformation operation is not supported. \n",
      "[Open3D WARNING] GLFW Error: WGL: Failed to make context current: The requested transformation operation is not supported. \n",
      "[Open3D INFO] Picked point #29658 (0.4, -0.042, 1.0) to add in queue.\n",
      "[Open3D INFO] Picked point #65791 (0.47, -0.05, 0.83) to add in queue.\n",
      "[Open3D INFO] Picked point #36678 (0.41, -0.25, 0.94) to add in queue.\n",
      "For point selecting\n",
      "1) Please pick points using [shift + left click]\n",
      "   Press [shift + right click] to undo point picking\n",
      "2) After picking points, press 'Q' to close the window\n",
      "For crop the model\n",
      "Press Y to switch to the ortho view, \n",
      " K to lock the view and pick cropping area \n",
      " C to crop \n",
      " F to free view\n",
      "\n",
      " After picking points, press Q to quit, cropped model will be saved in variable \"pcd\"\n",
      "[Open3D WARNING] GLFW Error: WGL: Failed to make context current: The requested transformation operation is not supported. \n",
      "[Open3D INFO] Picked point #25 (-0.00082, -0.09, 0.0) to add in queue.\n",
      "[Open3D INFO] Picked point #34 (-0.18, -0.049, 0.0) to add in queue.\n",
      "[Open3D INFO] Picked point #8 (-0.017, 0.12, 0.0) to add in queue.\n",
      "Compute a rough transform using the correspondences given by user\n",
      "Perform point-to-point ICP refinement\n"
     ]
    }
   ],
   "source": [
    "# model_mic = processor.pcd_crop(pcd = 'cpcd', save = False)\n",
    "\n",
    "processor.load_mic_array()\n",
    "\n",
    "processor.array_align()\n"
   ]
  },
  {
   "cell_type": "code",
   "execution_count": 9,
   "metadata": {},
   "outputs": [],
   "source": [
    "processor.paint_uniform_color()\n",
    "processor.pcd_show_highlight()"
   ]
  },
  {
   "cell_type": "code",
   "execution_count": 22,
   "metadata": {},
   "outputs": [
    {
     "name": "stdout",
     "output_type": "stream",
     "text": [
      "[Open3D WARNING] GLFW Error: WGL: Failed to make context current: The requested transformation operation is not supported. \n",
      "[Open3D WARNING] GLFW Error: WGL: Failed to make context current: The requested transformation operation is not supported. \n",
      "[Open3D WARNING] GLFW Error: WGL: Failed to make context current: The requested transformation operation is not supported. \n"
     ]
    }
   ],
   "source": [
    "processor.pcd_show(pcd = \"cpcd\")"
   ]
  },
  {
   "cell_type": "code",
   "execution_count": 57,
   "metadata": {},
   "outputs": [
    {
     "name": "stdout",
     "output_type": "stream",
     "text": [
      "For point selecting\n",
      "1) Please pick points using [shift + left click]\n",
      "   Press [shift + right click] to undo point picking\n",
      "2) After picking points, press 'Q' to close the window\n",
      "For crop the model\n",
      "Press Y to switch to the ortho view, \n",
      " K to lock the view and pick cropping area \n",
      " C to crop \n",
      " F to free view\n",
      "\n",
      " After picking points, press Q to quit, cropped model will be saved in variable \"pcd\"\n",
      "[Open3D WARNING] GLFW Error: WGL: Failed to make context current: The handle is invalid. \n",
      "[Open3D WARNING] GLFW Error: WGL: Failed to make context current: The handle is invalid. \n"
     ]
    },
    {
     "data": {
      "text/plain": [
       "PointCloud with 121875 points."
      ]
     },
     "execution_count": 57,
     "metadata": {},
     "output_type": "execute_result"
    }
   ],
   "source": [
    "processor.remove_array()"
   ]
  },
  {
   "cell_type": "markdown",
   "metadata": {},
   "source": [
    "\n",
    "### 3. Mesh create\n",
    "\n",
    "### 5. Ray Tracing - Step 3&4 required\n",
    "- **Time consumption, and Not necessary, can be replaced by simply crop the geometry.**\n",
    "\n"
   ]
  },
  {
   "cell_type": "markdown",
   "metadata": {},
   "source": [
    "\n",
    "### 6. Write the geometry"
   ]
  },
  {
   "cell_type": "code",
   "execution_count": 10,
   "metadata": {},
   "outputs": [
    {
     "name": "stdout",
     "output_type": "stream",
     "text": [
      "0: postPCD\\vvs-20kHz-12.8k-rightEar-realigned_20231120_163043\n",
      "1: postPCD\\AP-align_20231216_122743\n",
      "2: postPCD\\AP-modify_20231208_161053\n",
      "3: postPCD\\AP-noy-187_20231208_162247\n",
      "4: postPCD\\AP-noy_20231208_161813\n",
      "5: postPCD\\AP-side-0.7m-highRes_20231208_154153\n",
      "6: postPCD\\GL-0.7m-center_20240124_143039\n",
      "7: postPCD\\GL_0.53_frontside_20240122_135643\n",
      "8: postPCD\\HP-hr-0.4m-rc_20231211_150219\n",
      "9: postPCD\\HP-rc-side_20231211_151710\n",
      "10: postPCD\\HP-side~0.4m-hr_20231211_143359\n",
      "11: postPCD\\HP-vvs-0.7_20231216_132553\n",
      "12: postPCD\\HP-vvs_20231227_142812\n",
      "13: postPCD\\HP1-0.7m-backlose_20240124_150825\n",
      "14: postPCD\\HP1-0.7m-center-frontlose_20240124_144133\n",
      "15: postPCD\\HP1-goodseal-HATSmic-0.75m_20240215_164054\n",
      "16: postPCD\\HP2-0.43m-center_20240124_115402\n",
      "17: postPCD\\HP2-0.53-side-shift_20240124_112646\n",
      "18: postPCD\\HP2-0.70m-center_20240124_130648\n",
      "19: postPCD\\JABRA-PCD\n",
      "20: postPCD\\LS-PCD\n",
      "21: postPCD\\LSUC-0.7m_20240214_142207\n",
      "22: postPCD\\test-_20231227_135151\n",
      "23: postPCD\\testJABRA_20240131_123718\n",
      "24: postPCD\\FINAL-PCD\n",
      "25: postPCD\\HP1-0.75m_20240306_155707\n",
      "26: postPCD\\LS-0.65m-2.83v_20240306_131533\n",
      "27: postPCD\\LS-trans_init_20240306_111659\n",
      "28: postPCD\\LS-2.83v-crop_20240308_233248\n",
      "Model saved as postPCD\\LS-2.83v-crop_20240308_233248/model_0.ply\n",
      "Model saved as postPCD\\LS-2.83v-crop_20240308_233248/model_1.ply\n",
      "Model saved as postPCD\\LS-2.83v-crop_20240308_233248/model_2.ply\n"
     ]
    }
   ],
   "source": [
    "processor.pcd_write_group()"
   ]
  },
  {
   "cell_type": "markdown",
   "metadata": {},
   "source": []
  }
 ],
 "metadata": {
  "kernelspec": {
   "display_name": "Python 3",
   "language": "python",
   "name": "python3"
  },
  "language_info": {
   "codemirror_mode": {
    "name": "ipython",
    "version": 3
   },
   "file_extension": ".py",
   "mimetype": "text/x-python",
   "name": "python",
   "nbconvert_exporter": "python",
   "pygments_lexer": "ipython3",
   "version": "3.10.9"
  }
 },
 "nbformat": 4,
 "nbformat_minor": 2
}
