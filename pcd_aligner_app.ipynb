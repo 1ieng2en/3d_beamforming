{
 "cells": [
  {
   "cell_type": "markdown",
   "metadata": {},
   "source": [
    "This is a APP-like Jupyter lab code, after the initial group, most of the block is stand-alone with initialize block running aforehead - which means the blocks are parallal.\n",
    "\n",
    "Structure of this code contain the following:\n",
    "### 1. Initializing\n",
    "- **Require for the user's action, Read/Load**: Read is for the raw scan, as the first time processing from the direct output folder of Kinfu Scan; Load is for the secondary scan.\n",
    "- **if Read: Read the raw PCD from output folder**\n",
    "- **if Load: Loading existing PCD**\n",
    "- **Both method include the croping ability, the user can crop the geometry after lock (using K), and cut (using C)**"
   ]
  },
  {
   "cell_type": "code",
   "execution_count": 32,
   "metadata": {
    "notebookRunGroups": {
     "groupValue": "1"
    }
   },
   "outputs": [
    {
     "name": "stdout",
     "output_type": "stream",
     "text": [
      "The autoreload extension is already loaded. To reload it, use:\n",
      "  %reload_ext autoreload\n",
      "Modules to reload:\n",
      "pcd_aligner\n",
      "\n",
      "Modules to skip:\n",
      "\n"
     ]
    }
   ],
   "source": [
    "%load_ext autoreload\n",
    "%aimport pcd_aligner\n",
    "%autoreload 1\n",
    "%aimport\n",
    "\n",
    "import pcd_aligner\n",
    "import importlib"
   ]
  },
  {
   "cell_type": "code",
   "execution_count": 53,
   "metadata": {
    "notebookRunGroups": {
     "groupValue": "1"
    }
   },
   "outputs": [
    {
     "name": "stdout",
     "output_type": "stream",
     "text": [
      "c:\\ZIM\\MasterThesisProject\\Stage4\\3d_beamforming\\pcd_aligner.py\n",
      "load raw file\n",
      "For point selecting\n",
      "1) Please pick points using [shift + left click]\n",
      "   Press [shift + right click] to undo point picking\n",
      "2) After picking points, press 'Q' to close the window\n",
      "For crop the model\n",
      "Press Y to switch to the ortho view, \n",
      " K to lock the view and pick cropping area \n",
      " C to crop \n",
      " F to free view\n",
      "\n",
      " After picking points, press Q to quit, cropped model will be saved in variable \"pcd\"\n",
      "[Open3D WARNING] GLFW Error: WGL: Failed to make context current: The requested transformation operation is not supported. \n",
      "[Open3D WARNING] GLFW Error: WGL: Failed to make context current: The requested transformation operation is not supported. \n",
      "[Open3D WARNING] GLFW Error: WGL: Failed to make context current: The handle is invalid. \n",
      "[Open3D WARNING] GLFW Error: WGL: Failed to make context current: The requested transformation operation is not supported. \n"
     ]
    },
    {
     "data": {
      "text/plain": [
       "PointCloud with 196284 points."
      ]
     },
     "execution_count": 53,
     "metadata": {},
     "output_type": "execute_result"
    }
   ],
   "source": [
    "\n",
    "print(pcd_aligner.__file__)\n",
    "importlib.reload(pcd_aligner)\n",
    "import open3d as o3d\n",
    "\n",
    "user_input = input(\"Do you want start from a raw scan? (y/n\")\n",
    "if user_input.lower() == 'y':\n",
    "    print(\"load raw file\")\n",
    "    ply_file_path_folder = 'C:/ZIM/MasterThesisProject/Stage1/Azure-Kinect-Samples/opencv-kinfu-samples/x64/Release/'  # raw file path\n",
    "    processor = pcd_aligner.PointCloud_PreProcessor(ply_file_path_folder)\n",
    "    processor.pcd_read()\n",
    "else:\n",
    "    print(\"load processed file\")\n",
    "    user_input = input(\"Do you want go from a pre PCD (y/n)?\")\n",
    "    if user_input.lower() == 'y':\n",
    "        print(\"load pre PCD file\")\n",
    "        ply_file_path_folder = 'PointCloud'\n",
    "        processor = pcd_aligner.PointCloud_PreProcessor(ply_file_path_folder)\n",
    "        processor.pcd_load()\n",
    "    else:\n",
    "        print(\"load post PCD file\")\n",
    "        ply_file_path_folder = 'postPCD'\n",
    "        processor = pcd_aligner.PointCloud_PreProcessor(ply_file_path_folder)\n",
    "        file_to_view = processor.read_and_choose(filetype='')\n",
    "        processor.pcd = o3d.io.read_point_cloud(f'{file_to_view}/model3.ply')\n",
    "        \n",
    "processor.pcd_crop(title='crop')"
   ]
  },
  {
   "cell_type": "markdown",
   "metadata": {},
   "source": [
    "\n",
    "### 2. Coordinate allign\n"
   ]
  },
  {
   "cell_type": "code",
   "execution_count": 58,
   "metadata": {},
   "outputs": [
    {
     "name": "stdout",
     "output_type": "stream",
     "text": [
      "For point selecting\n",
      "1) Please pick points using [shift + left click]\n",
      "   Press [shift + right click] to undo point picking\n",
      "2) After picking points, press 'Q' to close the window\n",
      "For crop the model\n",
      "Press Y to switch to the ortho view, \n",
      " K to lock the view and pick cropping area \n",
      " C to crop \n",
      " F to free view\n",
      "\n",
      " After picking points, press Q to quit, cropped model will be saved in variable \"pcd\"\n",
      "[Open3D WARNING] GLFW Error: WGL: Failed to make context current: The handle is invalid. \n",
      "[Open3D WARNING] GLFW Error: WGL: Failed to make context current: The handle is invalid. \n",
      "[Open3D WARNING] GLFW Error: WGL: Failed to make context current: The handle is invalid. \n",
      "[Open3D INFO] Picked point #110368 (-0.27, 0.27, 0.75) to add in queue.\n",
      "[Open3D INFO] Picked point #28698 (-0.48, 0.31, 0.62) to add in queue.\n",
      "[Open3D INFO] Picked point #13600 (-0.49, 0.29, 0.81) to add in queue.\n",
      "\n",
      "Picked points: [(-0.27, 0.27, 0.75), (-0.48, 0.31, 0.62), (-0.49, 0.29, 0.81)]\n",
      "[Open3D WARNING] GLFW Error: WGL: Failed to make context current: The handle is invalid. \n",
      "[Open3D WARNING] GLFW Error: WGL: Failed to make context current: The handle is invalid. \n"
     ]
    },
    {
     "data": {
      "text/plain": [
       "(PointCloud with 121875 points.,\n",
       " [(-0.27, 0.27, 0.75), (-0.48, 0.31, 0.62), (-0.49, 0.29, 0.81)])"
      ]
     },
     "execution_count": 58,
     "metadata": {},
     "output_type": "execute_result"
    }
   ],
   "source": [
    "#processor.pcd_crop(pcd = \"cpcd\", title=\"coordinate allignment - copy the view direction and pick coordinate points\")\n",
    "processor.coordinates_align()"
   ]
  },
  {
   "cell_type": "markdown",
   "metadata": {},
   "source": [
    "### 4. Geometry Allign\n"
   ]
  },
  {
   "cell_type": "code",
   "execution_count": 3,
   "metadata": {},
   "outputs": [],
   "source": [
    "# normally, the red point should be at the directly up from the origin point\n",
    "processor.load_mic_array()\n",
    "# mesh frame color is X: red, Y: green, Z: blue.\n",
    "processor.pcd_show(pcd = \"mic\")"
   ]
  },
  {
   "cell_type": "code",
   "execution_count": 55,
   "metadata": {},
   "outputs": [
    {
     "name": "stdout",
     "output_type": "stream",
     "text": [
      "For point selecting\n",
      "1) Please pick points using [shift + left click]\n",
      "   Press [shift + right click] to undo point picking\n",
      "2) After picking points, press 'Q' to close the window\n",
      "For crop the model\n",
      "Press Y to switch to the ortho view, \n",
      " K to lock the view and pick cropping area \n",
      " C to crop \n",
      " F to free view\n",
      "\n",
      " After picking points, press Q to quit, cropped model will be saved in variable \"pcd\"\n",
      "[Open3D WARNING] GLFW Error: WGL: Failed to make context current: The requested transformation operation is not supported. \n",
      "[Open3D WARNING] GLFW Error: WGL: Failed to make context current: The requested transformation operation is not supported. \n",
      "[Open3D WARNING] GLFW Error: WGL: Failed to make context current: The requested transformation operation is not supported. \n",
      "[Open3D WARNING] GLFW Error: WGL: Failed to make context current: The requested transformation operation is not supported. \n",
      "[Open3D INFO] Picked point #29658 (0.4, -0.042, 1.0) to add in queue.\n",
      "[Open3D INFO] Picked point #65791 (0.47, -0.05, 0.83) to add in queue.\n",
      "[Open3D INFO] Picked point #36678 (0.41, -0.25, 0.94) to add in queue.\n",
      "For point selecting\n",
      "1) Please pick points using [shift + left click]\n",
      "   Press [shift + right click] to undo point picking\n",
      "2) After picking points, press 'Q' to close the window\n",
      "For crop the model\n",
      "Press Y to switch to the ortho view, \n",
      " K to lock the view and pick cropping area \n",
      " C to crop \n",
      " F to free view\n",
      "\n",
      " After picking points, press Q to quit, cropped model will be saved in variable \"pcd\"\n",
      "[Open3D WARNING] GLFW Error: WGL: Failed to make context current: The requested transformation operation is not supported. \n",
      "[Open3D INFO] Picked point #25 (-0.00082, -0.09, 0.0) to add in queue.\n",
      "[Open3D INFO] Picked point #34 (-0.18, -0.049, 0.0) to add in queue.\n",
      "[Open3D INFO] Picked point #8 (-0.017, 0.12, 0.0) to add in queue.\n",
      "Compute a rough transform using the correspondences given by user\n",
      "Perform point-to-point ICP refinement\n"
     ]
    }
   ],
   "source": [
    "# model_mic = processor.pcd_crop(pcd = 'cpcd', save = False)\n",
    "\n",
    "processor.load_mic_array()\n",
    "\n",
    "processor.array_align()\n"
   ]
  },
  {
   "cell_type": "code",
   "execution_count": 56,
   "metadata": {},
   "outputs": [],
   "source": [
    "processor.paint_uniform_color()\n",
    "processor.pcd_show_highlight()"
   ]
  },
  {
   "cell_type": "code",
   "execution_count": 22,
   "metadata": {},
   "outputs": [
    {
     "name": "stdout",
     "output_type": "stream",
     "text": [
      "[Open3D WARNING] GLFW Error: WGL: Failed to make context current: The requested transformation operation is not supported. \n",
      "[Open3D WARNING] GLFW Error: WGL: Failed to make context current: The requested transformation operation is not supported. \n",
      "[Open3D WARNING] GLFW Error: WGL: Failed to make context current: The requested transformation operation is not supported. \n"
     ]
    }
   ],
   "source": [
    "processor.pcd_show(pcd = \"cpcd\")"
   ]
  },
  {
   "cell_type": "code",
   "execution_count": 57,
   "metadata": {},
   "outputs": [
    {
     "name": "stdout",
     "output_type": "stream",
     "text": [
      "For point selecting\n",
      "1) Please pick points using [shift + left click]\n",
      "   Press [shift + right click] to undo point picking\n",
      "2) After picking points, press 'Q' to close the window\n",
      "For crop the model\n",
      "Press Y to switch to the ortho view, \n",
      " K to lock the view and pick cropping area \n",
      " C to crop \n",
      " F to free view\n",
      "\n",
      " After picking points, press Q to quit, cropped model will be saved in variable \"pcd\"\n",
      "[Open3D WARNING] GLFW Error: WGL: Failed to make context current: The handle is invalid. \n",
      "[Open3D WARNING] GLFW Error: WGL: Failed to make context current: The handle is invalid. \n"
     ]
    },
    {
     "data": {
      "text/plain": [
       "PointCloud with 121875 points."
      ]
     },
     "execution_count": 57,
     "metadata": {},
     "output_type": "execute_result"
    }
   ],
   "source": [
    "processor.remove_array()"
   ]
  },
  {
   "cell_type": "markdown",
   "metadata": {},
   "source": [
    "\n",
    "### 3. Mesh create\n",
    "\n",
    "### 5. Ray Tracing - Step 3&4 required\n",
    "- **Time consumption, and Not necessary, can be replaced by simply crop the geometry.**\n",
    "\n"
   ]
  },
  {
   "cell_type": "markdown",
   "metadata": {},
   "source": [
    "\n",
    "### 6. Write the geometry"
   ]
  },
  {
   "cell_type": "code",
   "execution_count": 60,
   "metadata": {},
   "outputs": [
    {
     "name": "stdout",
     "output_type": "stream",
     "text": [
      "Model saved as postPCD/HP1-0.7m-backlose_20240124_150825/model_0.ply\n",
      "Model saved as postPCD/HP1-0.7m-backlose_20240124_150825/model_1.ply\n",
      "Model saved as postPCD/HP1-0.7m-backlose_20240124_150825/model_2.ply\n"
     ]
    }
   ],
   "source": [
    "processor.pcd_write_group()"
   ]
  },
  {
   "cell_type": "markdown",
   "metadata": {},
   "source": []
  }
 ],
 "metadata": {
  "kernelspec": {
   "display_name": "Python 3",
   "language": "python",
   "name": "python3"
  },
  "language_info": {
   "codemirror_mode": {
    "name": "ipython",
    "version": 3
   },
   "file_extension": ".py",
   "mimetype": "text/x-python",
   "name": "python",
   "nbconvert_exporter": "python",
   "pygments_lexer": "ipython3",
   "version": "3.10.9"
  }
 },
 "nbformat": 4,
 "nbformat_minor": 2
}
