{
 "cells": [
  {
   "cell_type": "markdown",
   "metadata": {},
   "source": [
    "This is a APP-like Jupyter lab code, after the initial group, most of the block is stand-alone with initialize block running aforehead - which means the blocks are parallal.\n",
    "\n",
    "Structure of this code contain the following:\n",
    "### 1. Initializing\n",
    "- **Require for the user's action, Read/Load**: Read is for the raw scan, as the first time processing from the direct output folder of Kinfu Scan; Load is for the secondary scan.\n",
    "- **if Read: Read the raw PCD from output folder**\n",
    "- **if Load: Loading existing PCD**\n",
    "- **Both method include the croping ability, the user can crop the geometry after lock (using K), and cut (using C)**"
   ]
  },
  {
   "cell_type": "code",
   "execution_count": 30,
   "metadata": {
    "notebookRunGroups": {
     "groupValue": "1"
    }
   },
   "outputs": [
    {
     "name": "stdout",
     "output_type": "stream",
     "text": [
      "The autoreload extension is already loaded. To reload it, use:\n",
      "  %reload_ext autoreload\n",
      "Modules to reload:\n",
      "pcd_aligner\n",
      "\n",
      "Modules to skip:\n",
      "\n"
     ]
    }
   ],
   "source": [
    "%load_ext autoreload\n",
    "%aimport pcd_aligner\n",
    "%autoreload 1\n",
    "%aimport\n",
    "\n",
    "import pcd_aligner\n",
    "import importlib"
   ]
  },
  {
   "cell_type": "code",
   "execution_count": 32,
   "metadata": {
    "notebookRunGroups": {
     "groupValue": "1"
    }
   },
   "outputs": [
    {
     "name": "stdout",
     "output_type": "stream",
     "text": [
      "c:\\ZIM\\MasterThesisProject\\Stage4\\3d_beamforming\\pcd_aligner.py\n",
      "load processed file\n",
      "load pre PCD file\n",
      "0: PointCloud\\[HATSbuttom]saved_pointcloud_20230906_0950.ply\n",
      "1: PointCloud\\[smallHATS]saved_pointcloud_20230907_1526.ply\n",
      "2: PointCloud\\[HATSwithButtom]saved_pointcloud_20230912_1139.ply\n",
      "3: PointCloud\\[Cropped Arm]saved_pointcloud_20230904_1303.ply\n",
      "4: PointCloud\\[Cropped HATS]saved_pointcloud_20230905_1640.ply\n",
      "5: PointCloud\\[HATS]saved_pointcloud_20230905_1043.ply\n",
      "6: PointCloud\\[note1]saved_pointcloud_20230904_1300.ply\n",
      "7: PointCloud\\[NewHATSscan]saved_pointcloud_20230912_1128.ply\n",
      "8: PointCloud\\[NON]saved_pointcloud_20230905_1301.ply\n",
      "9: PointCloud\\[]saved_pointcloud_20230905_1400.ply\n",
      "10: PointCloud\\[finePinna]saved_pointcloud_20230926_0951.ply\n",
      "11: PointCloud\\[HalfHATS_headphone]saved_pointcloud_20231110_1302.ply\n",
      "12: PointCloud\\[tableHATS_headphone]saved_pointcloud_20231110_1311.ply\n",
      "13: PointCloud\\[vvsHEATS]saved_pointcloud_20231115_1600.ply\n",
      "14: PointCloud\\[withmics]saved_pointcloud_20231120_1540.ply\n",
      "15: PointCloud\\[HP-side~0.6m]saved_pointcloud_20231208_1401.ply\n",
      "16: PointCloud\\[AP-side~0.6m-highRes]saved_pointcloud_20231208_1432.ply\n",
      "17: PointCloud\\[HP-side~0.4m]saved_pointcloud_20231211_1423.ply\n",
      "18: PointCloud\\[HP-side-vvs-0.6m]saved_pointcloud_20231212_1839.ply\n",
      "For point selecting\n",
      "1) Please pick points using [shift + left click]\n",
      "   Press [shift + right click] to undo point picking\n",
      "2) After picking points, press 'Q' to close the window\n",
      "For crop the model\n",
      "Press Y to switch to the ortho view, \n",
      " K to lock the view and pick cropping area \n",
      " C to crop \n",
      " F to free view\n",
      "\n",
      " After picking points, press Q to quit, cropped model will be saved in variable \"pcd\"\n",
      "[Open3D WARNING] GLFW Error: WGL: Failed to make context current: The requested transformation operation is not supported. \n",
      "[Open3D WARNING] GLFW Error: WGL: Failed to make context current: The handle is invalid. \n"
     ]
    },
    {
     "data": {
      "text/plain": [
       "PointCloud with 187319 points."
      ]
     },
     "execution_count": 32,
     "metadata": {},
     "output_type": "execute_result"
    }
   ],
   "source": [
    "\n",
    "print(pcd_aligner.__file__)\n",
    "importlib.reload(pcd_aligner)\n",
    "import open3d as o3d\n",
    "\n",
    "user_input = input(\"Do you want start from a raw scan? (y/n\")\n",
    "if user_input.lower() == 'y':\n",
    "    print(\"load raw file\")\n",
    "    ply_file_path_folder = 'C:/ZIM/MasterThesisProject/Stage1/Azure-Kinect-Samples/opencv-kinfu-samples/x64/Release/'  # raw file path\n",
    "    processor = pcd_aligner.PointCloud_PreProcessor(ply_file_path_folder)\n",
    "    processor.pcd_read()\n",
    "else:\n",
    "    print(\"load processed file\")\n",
    "    user_input = input(\"Do you want go from a pre PCD (y/n)？\")\n",
    "    if user_input.lower() == 'y':\n",
    "        print(\"load pre PCD file\")\n",
    "        ply_file_path_folder = 'PointCloud'\n",
    "        processor = pcd_aligner.PointCloud_PreProcessor(ply_file_path_folder)\n",
    "        processor.pcd_load()\n",
    "    else:\n",
    "        print(\"load post PCD file\")\n",
    "        ply_file_path_folder = 'postPCD'\n",
    "        processor = pcd_aligner.PointCloud_PreProcessor(ply_file_path_folder)\n",
    "        file_to_view = processor.read_and_choose(filetype='')\n",
    "        processor.pcd = o3d.io.read_point_cloud(f'{file_to_view}/model3.ply')\n",
    "        \n",
    "processor.pcd_crop(title='crop')"
   ]
  },
  {
   "cell_type": "markdown",
   "metadata": {},
   "source": [
    "\n",
    "### 2. Coordinate allign\n"
   ]
  },
  {
   "cell_type": "code",
   "execution_count": 34,
   "metadata": {},
   "outputs": [
    {
     "name": "stdout",
     "output_type": "stream",
     "text": [
      "For point selecting\n",
      "1) Please pick points using [shift + left click]\n",
      "   Press [shift + right click] to undo point picking\n",
      "2) After picking points, press 'Q' to close the window\n",
      "For crop the model\n",
      "Press Y to switch to the ortho view, \n",
      " K to lock the view and pick cropping area \n",
      " C to crop \n",
      " F to free view\n",
      "\n",
      " After picking points, press Q to quit, cropped model will be saved in variable \"pcd\"\n",
      "[Open3D INFO] Picked point #76381 (0.22, 0.00091, -0.0020) to add in queue.\n",
      "[Open3D INFO] Picked point #118135 (0.035, 0.0011, -0.0026) to add in queue.\n",
      "[Open3D INFO] Picked point #33792 (0.075, 0.12, -0.037) to add in queue.\n",
      "Point #1: Index(76381) - Coordinates [ 0.415039   -0.00425783  1.46387   ]\n",
      "Point #2: Index(118135) - Coordinates [0.0302734 0.319686  1.01855  ]\n",
      "Point #3: Index(33792) - Coordinates [0.00576925 0.288086   0.969727  ]\n",
      "\n",
      "Picked points: [(0.22, 0.00091, -0.002), (0.035, 0.0011, -0.0026), (0.075, 0.12, -0.037)]\n"
     ]
    },
    {
     "data": {
      "text/plain": [
       "PointCloud with 187319 points."
      ]
     },
     "execution_count": 34,
     "metadata": {},
     "output_type": "execute_result"
    }
   ],
   "source": [
    "#processor.pcd_crop(pcd = \"cpcd\", title=\"coordinate allignment - copy the view direction and pick coordinate points\")\n",
    "processor.coordinates_align()"
   ]
  },
  {
   "cell_type": "markdown",
   "metadata": {},
   "source": [
    "### 4. Geometry Allign\n"
   ]
  },
  {
   "cell_type": "code",
   "execution_count": 35,
   "metadata": {},
   "outputs": [],
   "source": [
    "# normally, the red point should be at the directly up from the origin point\n",
    "processor.pcd_show()"
   ]
  },
  {
   "cell_type": "code",
   "execution_count": 1,
   "metadata": {},
   "outputs": [
    {
     "ename": "NameError",
     "evalue": "name 'processor' is not defined",
     "output_type": "error",
     "traceback": [
      "\u001b[1;31m---------------------------------------------------------------------------\u001b[0m",
      "\u001b[1;31mNameError\u001b[0m                                 Traceback (most recent call last)",
      "Cell \u001b[1;32mIn[1], line 1\u001b[0m\n\u001b[1;32m----> 1\u001b[0m \u001b[43mprocessor\u001b[49m\u001b[38;5;241m.\u001b[39mload_mic_array()\n\u001b[0;32m      2\u001b[0m processor\u001b[38;5;241m.\u001b[39marray_align()\n",
      "\u001b[1;31mNameError\u001b[0m: name 'processor' is not defined"
     ]
    }
   ],
   "source": [
    "processor.load_mic_array()\n",
    "processor.array_align()"
   ]
  },
  {
   "cell_type": "code",
   "execution_count": 37,
   "metadata": {},
   "outputs": [
    {
     "name": "stdout",
     "output_type": "stream",
     "text": [
      "For point selecting\n",
      "1) Please pick points using [shift + left click]\n",
      "   Press [shift + right click] to undo point picking\n",
      "2) After picking points, press 'Q' to close the window\n",
      "For crop the model\n",
      "Press Y to switch to the ortho view, \n",
      " K to lock the view and pick cropping area \n",
      " C to crop \n",
      " F to free view\n",
      "\n",
      " After picking points, press Q to quit, cropped model will be saved in variable \"pcd\"\n"
     ]
    },
    {
     "data": {
      "text/plain": [
       "PointCloud with 77159 points."
      ]
     },
     "execution_count": 37,
     "metadata": {},
     "output_type": "execute_result"
    }
   ],
   "source": [
    "processor.remove_array()"
   ]
  },
  {
   "cell_type": "markdown",
   "metadata": {},
   "source": [
    "\n",
    "### 3. Mesh create\n",
    "\n",
    "### 5. Ray Tracing - Step 3&4 required\n",
    "- **Time consumption, and Not necessary, can be replaced by simply crop the geometry.**\n",
    "\n"
   ]
  },
  {
   "cell_type": "markdown",
   "metadata": {},
   "source": [
    "\n",
    "### 6. Write the geometry"
   ]
  },
  {
   "cell_type": "code",
   "execution_count": 39,
   "metadata": {},
   "outputs": [
    {
     "name": "stdout",
     "output_type": "stream",
     "text": [
      "0: postPCD\\vvs-20kHz-12.8k-rightEar-realigned_20231120_163043\n",
      "1: postPCD\\AP-side-0.7m-highRes_20231208_154153\n",
      "2: postPCD\\AP-modify_20231208_161053\n",
      "3: postPCD\\AP-noy_20231208_161813\n",
      "4: postPCD\\AP-noy-187_20231208_162247\n",
      "5: postPCD\\HP-side~0.4m-hr_20231211_143359\n",
      "6: postPCD\\HP-hr-0.4m-rc_20231211_150219\n",
      "7: postPCD\\HP-rc-side_20231211_151710\n",
      "8: postPCD\\AP-align_20231216_122743\n",
      "9: postPCD\\HP-vvs-0.7_20231216_132553\n",
      "10: postPCD\\test-_20231227_135151\n",
      "11: postPCD\\HP-vvs_20231227_142812\n",
      "Model saved as postPCD\\HP-vvs_20231227_142812/model_0.ply\n",
      "Model saved as postPCD\\HP-vvs_20231227_142812/model_1.ply\n",
      "Model saved as postPCD\\HP-vvs_20231227_142812/model_2.ply\n"
     ]
    }
   ],
   "source": [
    "processor.pcd_write_group()"
   ]
  },
  {
   "cell_type": "markdown",
   "metadata": {},
   "source": []
  }
 ],
 "metadata": {
  "kernelspec": {
   "display_name": "Python 3",
   "language": "python",
   "name": "python3"
  },
  "language_info": {
   "codemirror_mode": {
    "name": "ipython",
    "version": 3
   },
   "file_extension": ".py",
   "mimetype": "text/x-python",
   "name": "python",
   "nbconvert_exporter": "python",
   "pygments_lexer": "ipython3",
   "version": "3.10.9"
  }
 },
 "nbformat": 4,
 "nbformat_minor": 2
}
