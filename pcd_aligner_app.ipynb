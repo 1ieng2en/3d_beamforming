{
 "cells": [
  {
   "cell_type": "markdown",
   "metadata": {},
   "source": [
    "This is a APP-like Jupyter lab code, after the initial group, most of the block is stand-alone with initialize block running aforehead - which means the blocks are parallal.\n",
    "\n",
    "Structure of this code contain the following:\n",
    "### 1. Initializing\n",
    "- **Require for the user's action, Read/Load**: Read is for the raw scan, as the first time processing from the direct output folder of Kinfu Scan; Load is for the secondary scan.\n",
    "- **if Read: Read the raw PCD from output folder**\n",
    "- **if Load: Loading existing PCD**\n",
    "- **Both method include the croping ability, the user can crop the geometry after lock (using K), and cut (using C)**"
   ]
  },
  {
   "cell_type": "code",
   "execution_count": 1,
   "metadata": {},
   "outputs": [
    {
     "name": "stdout",
     "output_type": "stream",
     "text": [
      "Jupyter environment detected. Enabling Open3D WebVisualizer.\n",
      "[Open3D INFO] WebRTC GUI backend enabled.\n",
      "[Open3D INFO] WebRTCWindowSystem: HTTP handshake server disabled.\n"
     ]
    }
   ],
   "source": [
    "%load_ext autoreload\n",
    "%aimport pcd_aligner"
   ]
  },
  {
   "cell_type": "code",
   "execution_count": 5,
   "metadata": {},
   "outputs": [
    {
     "name": "stdout",
     "output_type": "stream",
     "text": [
      "Modules to reload:\n",
      "pcd_aligner\n",
      "\n",
      "Modules to skip:\n",
      "\n",
      "c:\\ZIM\\MasterThesisProject\\Stage4\\3d_beamforming\\pcd_aligner.py\n",
      "load processed file\n",
      "['PointCloud\\\\[AP-side~0.6m-highRes]saved_pointcloud_20231208_1432.ply', 'PointCloud\\\\[Cropped Arm]saved_pointcloud_20230904_1303.ply', 'PointCloud\\\\[Cropped HATS]saved_pointcloud_20230905_1640.ply', 'PointCloud\\\\[finePinna]saved_pointcloud_20230926_0951.ply', 'PointCloud\\\\[HalfHATS_headphone]saved_pointcloud_20231110_1302.ply', 'PointCloud\\\\[HATSbuttom]saved_pointcloud_20230906_0950.ply', 'PointCloud\\\\[HATSwithButtom]saved_pointcloud_20230912_1139.ply', 'PointCloud\\\\[HATS]saved_pointcloud_20230905_1043.ply', 'PointCloud\\\\[HP-side~0.6m]saved_pointcloud_20231208_1401.ply', 'PointCloud\\\\[NewHATSscan]saved_pointcloud_20230912_1128.ply', 'PointCloud\\\\[NON]saved_pointcloud_20230905_1301.ply', 'PointCloud\\\\[note1]saved_pointcloud_20230904_1300.ply', 'PointCloud\\\\[smallHATS]saved_pointcloud_20230907_1526.ply', 'PointCloud\\\\[tableHATS_headphone]saved_pointcloud_20231110_1311.ply', 'PointCloud\\\\[vvsHEATS]saved_pointcloud_20231115_1600.ply', 'PointCloud\\\\[]saved_pointcloud_20230905_1400.ply'] PointCloud\n",
      "0: PointCloud\\[HATSbuttom]saved_pointcloud_20230906_0950.ply\n",
      "1: PointCloud\\[smallHATS]saved_pointcloud_20230907_1526.ply\n",
      "2: PointCloud\\[HATSwithButtom]saved_pointcloud_20230912_1139.ply\n",
      "3: PointCloud\\[Cropped Arm]saved_pointcloud_20230904_1303.ply\n",
      "4: PointCloud\\[Cropped HATS]saved_pointcloud_20230905_1640.ply\n",
      "5: PointCloud\\[HATS]saved_pointcloud_20230905_1043.ply\n",
      "6: PointCloud\\[note1]saved_pointcloud_20230904_1300.ply\n",
      "7: PointCloud\\[NewHATSscan]saved_pointcloud_20230912_1128.ply\n",
      "8: PointCloud\\[NON]saved_pointcloud_20230905_1301.ply\n",
      "9: PointCloud\\[]saved_pointcloud_20230905_1400.ply\n",
      "10: PointCloud\\[finePinna]saved_pointcloud_20230926_0951.ply\n",
      "11: PointCloud\\[HalfHATS_headphone]saved_pointcloud_20231110_1302.ply\n",
      "12: PointCloud\\[tableHATS_headphone]saved_pointcloud_20231110_1311.ply\n",
      "13: PointCloud\\[vvsHEATS]saved_pointcloud_20231115_1600.ply\n",
      "14: PointCloud\\[HP-side~0.6m]saved_pointcloud_20231208_1401.ply\n",
      "15: PointCloud\\[AP-side~0.6m-highRes]saved_pointcloud_20231208_1432.ply\n"
     ]
    },
    {
     "ename": "",
     "evalue": "",
     "output_type": "error",
     "traceback": [
      "\u001b[1;31mThe Kernel crashed while executing code in the the current cell or a previous cell. Please review the code in the cell(s) to identify a possible cause of the failure. Click <a href='https://aka.ms/vscodeJupyterKernelCrash'>here</a> for more info. View Jupyter <a href='command:jupyter.viewOutput'>log</a> for further details."
     ]
    }
   ],
   "source": [
    "import pcd_aligner\n",
    "import importlib\n",
    "%autoreload 1\n",
    "%aimport\n",
    "\n",
    "print(pcd_aligner.__file__)\n",
    "importlib.reload(pcd_aligner)\n",
    "\n",
    "\n",
    "user_input = input(\"Do you want start from a raw scan? (y/[n]\")\n",
    "if user_input.lower() == 'y':\n",
    "    print(\"load raw file\")\n",
    "    ply_file_path_folder = 'C:/ZIM/MasterThesisProject/Stage1/Azure-Kinect-Samples/opencv-kinfu-samples/x64/Release/'  # raw file path\n",
    "    processor = pcd_aligner.PointCloud_PreProcessor(ply_file_path_folder)\n",
    "    processor.pcd_read()\n",
    "else:\n",
    "    print(\"load processed file\")\n",
    "    ply_file_path_folder = 'PointCloud'\n",
    "    processor = pcd_aligner.PointCloud_PreProcessor(ply_file_path_folder)\n",
    "    processor.pcd_load()\n",
    "\n",
    "processor.pcd_crop()"
   ]
  },
  {
   "cell_type": "code",
   "execution_count": 9,
   "metadata": {},
   "outputs": [
    {
     "name": "stdout",
     "output_type": "stream",
     "text": [
      "No subfolders found in 'postPCD'.\n"
     ]
    }
   ],
   "source": [
    "from data_importer import PointCloudManager, DataExtractor\n",
    "\n",
    "base_folder = \"PointCloud\"  # dir to PCD folders\n",
    "manager = PointCloudManager(base_folder)\n",
    "manager.run()"
   ]
  },
  {
   "cell_type": "markdown",
   "metadata": {},
   "source": [
    "\n",
    "### 2. Coordinate allign\n",
    "\n",
    "### 3. Mesh create\n",
    "\n",
    "### 4. Geometry Allign\n",
    "\n",
    "### 5. Ray Tracing - Step 3&4 required\n",
    "- **Time consumption, and Not necessary, can be replaced by simply crop the geometry.**\n",
    "\n",
    "### 6. Write the geometry\n"
   ]
  },
  {
   "cell_type": "markdown",
   "metadata": {},
   "source": []
  }
 ],
 "metadata": {
  "kernelspec": {
   "display_name": "Python 3",
   "language": "python",
   "name": "python3"
  },
  "language_info": {
   "codemirror_mode": {
    "name": "ipython",
    "version": 3
   },
   "file_extension": ".py",
   "mimetype": "text/x-python",
   "name": "python",
   "nbconvert_exporter": "python",
   "pygments_lexer": "ipython3",
   "version": "3.10.9"
  }
 },
 "nbformat": 4,
 "nbformat_minor": 2
}
