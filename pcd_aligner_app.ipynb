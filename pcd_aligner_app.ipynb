{
 "cells": [
  {
   "cell_type": "markdown",
   "metadata": {},
   "source": [
    "This is a APP-like Jupyter lab code, after the initial group, most of the block is stand-alone with initialize block running aforehead - which means the blocks are parallal.\n",
    "\n",
    "Structure of this code contain the following:\n",
    "### 1. Initializing\n",
    "- **Require for the user's action, Read/Load**: Read is for the raw scan, as the first time processing from the direct output folder of Kinfu Scan; Load is for the secondary scan.\n",
    "- **if Read: Read the raw PCD from output folder**\n",
    "- **if Load: Loading existing PCD**\n",
    "- **Both method include the croping ability, the user can crop the geometry after lock (using K), and cut (using C)**"
   ]
  },
  {
   "cell_type": "code",
   "execution_count": 1,
   "metadata": {
    "notebookRunGroups": {
     "groupValue": "1"
    }
   },
   "outputs": [
    {
     "name": "stdout",
     "output_type": "stream",
     "text": [
      "Jupyter environment detected. Enabling Open3D WebVisualizer.\n",
      "[Open3D INFO] WebRTC GUI backend enabled.\n",
      "[Open3D INFO] WebRTCWindowSystem: HTTP handshake server disabled.\n",
      "Modules to reload:\n",
      "pcd_aligner\n",
      "\n",
      "Modules to skip:\n",
      "\n"
     ]
    }
   ],
   "source": [
    "%load_ext autoreload\n",
    "%aimport pcd_aligner\n",
    "%autoreload 1\n",
    "%aimport\n",
    "\n",
    "import pcd_aligner\n",
    "import importlib"
   ]
  },
  {
   "cell_type": "code",
   "execution_count": 2,
   "metadata": {
    "notebookRunGroups": {
     "groupValue": "1"
    }
   },
   "outputs": [
    {
     "name": "stdout",
     "output_type": "stream",
     "text": [
      "c:\\ZIM\\MasterThesisProject\\Stage4\\3d_beamforming\\pcd_aligner.py\n"
     ]
    },
    {
     "name": "stdout",
     "output_type": "stream",
     "text": [
      "load raw file\n",
      "For point selecting\n",
      "1) Please pick points using [shift + left click]\n",
      "   Press [shift + right click] to undo point picking\n",
      "2) After picking points, press 'Q' to close the window\n",
      "For crop the model\n",
      "Press Y to switch to the ortho view, \n",
      " K to lock the view and pick cropping area \n",
      " C to crop \n",
      " F to free view\n",
      "\n",
      " After picking points, press Q to quit, cropped model will be saved in variable \"pcd\"\n",
      "[Open3D WARNING] GLFW Error: WGL: Failed to make context current: The handle is invalid. \n",
      "[Open3D WARNING] GLFW Error: WGL: Failed to make context current: The handle is invalid. \n"
     ]
    },
    {
     "data": {
      "text/plain": [
       "PointCloud with 192837 points."
      ]
     },
     "execution_count": 2,
     "metadata": {},
     "output_type": "execute_result"
    }
   ],
   "source": [
    "\n",
    "print(pcd_aligner.__file__)\n",
    "importlib.reload(pcd_aligner)\n",
    "import open3d as o3d\n",
    "\n",
    "user_input = input(\"Do you want start from a raw scan? (y/n\")\n",
    "if user_input.lower() == 'y':\n",
    "    print(\"load raw file\")\n",
    "    ply_file_path_folder = 'C:/ZIM/MasterThesisProject/Stage1/Azure-Kinect-Samples/opencv-kinfu-samples/x64/Release/'  # raw file path\n",
    "    processor = pcd_aligner.PointCloud_PreProcessor(ply_file_path_folder)\n",
    "    processor.pcd_read()\n",
    "else:\n",
    "    print(\"load processed file\")\n",
    "    user_input = input(\"Do you want go from a pre PCD (y/n)?\")\n",
    "    if user_input.lower() == 'y':\n",
    "        print(\"load pre PCD file\")\n",
    "        ply_file_path_folder = 'PointCloud'\n",
    "        processor = pcd_aligner.PointCloud_PreProcessor(ply_file_path_folder)\n",
    "        processor.pcd_load()\n",
    "    else:\n",
    "        print(\"load post PCD file\")\n",
    "        ply_file_path_folder = 'postPCD'\n",
    "        processor = pcd_aligner.PointCloud_PreProcessor(ply_file_path_folder)\n",
    "        file_to_view = processor.read_and_choose(filetype='')\n",
    "        processor.pcd = o3d.io.read_point_cloud(f'{file_to_view}/model3.ply')\n",
    "        \n",
    "processor.pcd_crop(title='crop')"
   ]
  },
  {
   "cell_type": "markdown",
   "metadata": {},
   "source": [
    "\n",
    "### 2. Coordinate allign\n"
   ]
  },
  {
   "cell_type": "code",
   "execution_count": 12,
   "metadata": {},
   "outputs": [
    {
     "name": "stdout",
     "output_type": "stream",
     "text": [
      "For point selecting\n",
      "1) Please pick points using [shift + left click]\n",
      "   Press [shift + right click] to undo point picking\n",
      "2) After picking points, press 'Q' to close the window\n",
      "For crop the model\n",
      "Press Y to switch to the ortho view, \n",
      " K to lock the view and pick cropping area \n",
      " C to crop \n",
      " F to free view\n",
      "\n",
      " After picking points, press Q to quit, cropped model will be saved in variable \"pcd\"\n",
      "[Open3D INFO] Picked point #120782 (-0.45, 0.14, 0.79) to add in queue.\n",
      "[Open3D INFO] Picked point #207148 (-0.13, 0.11, 0.92) to add in queue.\n",
      "[Open3D INFO] Picked point #210498 (-0.13, 0.11, 1.0) to add in queue.\n",
      "\n",
      "Picked points: [(-0.45, 0.14, 0.79), (-0.13, 0.11, 0.92), (-0.13, 0.11, 1.0)]\n",
      "[Open3D WARNING] GLFW Error: WGL: Failed to make context current: The handle is invalid. \n",
      "[Open3D WARNING] GLFW Error: WGL: Failed to make context current: The handle is invalid. \n"
     ]
    },
    {
     "data": {
      "text/plain": [
       "(PointCloud with 255214 points.,\n",
       " [(-0.45, 0.14, 0.79), (-0.13, 0.11, 0.92), (-0.13, 0.11, 1.0)])"
      ]
     },
     "execution_count": 12,
     "metadata": {},
     "output_type": "execute_result"
    }
   ],
   "source": [
    "#processor.pcd_crop(pcd = \"cpcd\", title=\"coordinate allignment - copy the view direction and pick coordinate points\")\n",
    "processor.coordinates_align()"
   ]
  },
  {
   "cell_type": "markdown",
   "metadata": {},
   "source": [
    "### 4. Geometry Allign\n"
   ]
  },
  {
   "cell_type": "code",
   "execution_count": 3,
   "metadata": {},
   "outputs": [],
   "source": [
    "# normally, the red point should be at the directly up from the origin point\n",
    "processor.load_mic_array()\n",
    "# mesh frame color is X: red, Y: green, Z: blue.\n",
    "processor.pcd_show(pcd = \"mic\")"
   ]
  },
  {
   "cell_type": "code",
   "execution_count": 6,
   "metadata": {},
   "outputs": [
    {
     "name": "stdout",
     "output_type": "stream",
     "text": [
      "For point selecting\n",
      "1) Please pick points using [shift + left click]\n",
      "   Press [shift + right click] to undo point picking\n",
      "2) After picking points, press 'Q' to close the window\n",
      "For crop the model\n",
      "Press Y to switch to the ortho view, \n",
      " K to lock the view and pick cropping area \n",
      " C to crop \n",
      " F to free view\n",
      "\n",
      " After picking points, press Q to quit, cropped model will be saved in variable \"pcd\"\n",
      "[Open3D INFO] Picked point #144834 (0.37, 0.032, 0.69) to add in queue.\n",
      "[Open3D INFO] Picked point #191798 (0.37, -0.00098, 0.52) to add in queue.\n",
      "[Open3D INFO] Picked point #138732 (0.37, -0.39, 0.58) to add in queue.\n",
      "For point selecting\n",
      "1) Please pick points using [shift + left click]\n",
      "   Press [shift + right click] to undo point picking\n",
      "2) After picking points, press 'Q' to close the window\n",
      "For crop the model\n",
      "Press Y to switch to the ortho view, \n",
      " K to lock the view and pick cropping area \n",
      " C to crop \n",
      " F to free view\n",
      "\n",
      " After picking points, press Q to quit, cropped model will be saved in variable \"pcd\"\n",
      "[Open3D WARNING] GLFW Error: WGL: Failed to make context current: The requested transformation operation is not supported. \n",
      "[Open3D INFO] Picked point #29 (-0.038, -0.21, 0.0) to add in queue.\n",
      "[Open3D INFO] Picked point #35 (-0.19, -0.13, 0.0) to add in queue.\n",
      "[Open3D INFO] Picked point #11 (-0.017, 0.22, 0.0) to add in queue.\n",
      "Compute a rough transform using the correspondences given by user\n",
      "Perform point-to-point ICP refinement\n"
     ]
    }
   ],
   "source": [
    "# model_mic = processor.pcd_crop(pcd = 'cpcd', save = False)\n",
    "\n",
    "processor.load_mic_array()\n",
    "\n",
    "processor.array_align()\n"
   ]
  },
  {
   "cell_type": "code",
   "execution_count": 14,
   "metadata": {},
   "outputs": [],
   "source": [
    "processor.paint_uniform_color()\n",
    "processor.pcd_show_highlight()"
   ]
  },
  {
   "cell_type": "code",
   "execution_count": 17,
   "metadata": {},
   "outputs": [],
   "source": [
    "processor.pcd_show(pcd = 'mic')"
   ]
  },
  {
   "cell_type": "code",
   "execution_count": 7,
   "metadata": {},
   "outputs": [
    {
     "name": "stdout",
     "output_type": "stream",
     "text": [
      "For point selecting\n",
      "1) Please pick points using [shift + left click]\n",
      "   Press [shift + right click] to undo point picking\n",
      "2) After picking points, press 'Q' to close the window\n",
      "For crop the model\n",
      "Press Y to switch to the ortho view, \n",
      " K to lock the view and pick cropping area \n",
      " C to crop \n",
      " F to free view\n",
      "\n",
      " After picking points, press Q to quit, cropped model will be saved in variable \"pcd\"\n",
      "[Open3D WARNING] GLFW Error: WGL: Failed to make context current: The requested transformation operation is not supported. \n",
      "[Open3D WARNING] GLFW Error: WGL: Failed to make context current: The handle is invalid. \n",
      "[Open3D WARNING] GLFW Error: WGL: Failed to make context current: The handle is invalid. \n"
     ]
    },
    {
     "data": {
      "text/plain": [
       "PointCloud with 54821 points."
      ]
     },
     "execution_count": 7,
     "metadata": {},
     "output_type": "execute_result"
    }
   ],
   "source": [
    "processor.remove_array()"
   ]
  },
  {
   "cell_type": "markdown",
   "metadata": {},
   "source": [
    "\n",
    "### 3. Mesh create\n",
    "\n",
    "### 5. Ray Tracing - Step 3&4 required\n",
    "- **Time consumption, and Not necessary, can be replaced by simply crop the geometry.**\n",
    "\n"
   ]
  },
  {
   "cell_type": "markdown",
   "metadata": {},
   "source": [
    "\n",
    "### 6. Write the geometry"
   ]
  },
  {
   "cell_type": "code",
   "execution_count": 8,
   "metadata": {},
   "outputs": [
    {
     "name": "stdout",
     "output_type": "stream",
     "text": [
      "0: postPCD\\vvs-20kHz-12.8k-rightEar-realigned_20231120_163043\n",
      "1: postPCD\\AP-side-0.7m-highRes_20231208_154153\n",
      "2: postPCD\\AP-modify_20231208_161053\n",
      "3: postPCD\\AP-noy_20231208_161813\n",
      "4: postPCD\\AP-noy-187_20231208_162247\n",
      "5: postPCD\\HP-hr-0.4m-rc_20231211_150219\n",
      "6: postPCD\\HP-rc-side_20231211_151710\n",
      "7: postPCD\\AP-align_20231216_122743\n",
      "8: postPCD\\HP-vvs-0.7_20231216_132553\n",
      "9: postPCD\\test-_20231227_135151\n",
      "10: postPCD\\HP-vvs_20231227_142812\n",
      "11: postPCD\\HP-side~0.4m-hr_20231211_143359\n",
      "12: postPCD\\GL_0.53_frontside_20240122_135643\n",
      "Model saved as postPCD\\GL_0.53_frontside_20240122_135643/model_0.ply\n",
      "Model saved as postPCD\\GL_0.53_frontside_20240122_135643/model_1.ply\n",
      "Model saved as postPCD\\GL_0.53_frontside_20240122_135643/model_2.ply\n"
     ]
    }
   ],
   "source": [
    "processor.pcd_write_group()"
   ]
  },
  {
   "cell_type": "markdown",
   "metadata": {},
   "source": []
  }
 ],
 "metadata": {
  "kernelspec": {
   "display_name": "Python 3",
   "language": "python",
   "name": "python3"
  },
  "language_info": {
   "codemirror_mode": {
    "name": "ipython",
    "version": 3
   },
   "file_extension": ".py",
   "mimetype": "text/x-python",
   "name": "python",
   "nbconvert_exporter": "python",
   "pygments_lexer": "ipython3",
   "version": "3.10.9"
  }
 },
 "nbformat": 4,
 "nbformat_minor": 2
}
