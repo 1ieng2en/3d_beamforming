{
 "cells": [
  {
   "cell_type": "markdown",
   "metadata": {},
   "source": [
    "## 3D Beamforming Application\n",
    "\n",
    "this is an app-like jupyter notebook. \n"
   ]
  },
  {
   "cell_type": "code",
   "execution_count": 1,
   "metadata": {},
   "outputs": [
    {
     "name": "stdout",
     "output_type": "stream",
     "text": [
      "Jupyter environment detected. Enabling Open3D WebVisualizer.\n",
      "[Open3D INFO] WebRTC GUI backend enabled.\n",
      "[Open3D INFO] WebRTCWindowSystem: HTTP handshake server disabled.\n",
      "Available subfolders:\n",
      "0: AP-align_20231216_122743\n",
      "1: AP-modify_20231208_161053\n",
      "2: AP-noy-187_20231208_162247\n",
      "3: AP-noy_20231208_161813\n",
      "4: AP-side-0.7m-highRes_20231208_154153\n",
      "5: HP-hr-0.4m-rc_20231211_150219\n",
      "6: HP-rc-side_20231211_151710\n",
      "7: HP-side~0.4m-hr_20231211_143359\n",
      "8: HP-vvs-0.7_20231216_132553\n",
      "9: HP-vvs_20231227_142812\n",
      "10: test-_20231227_135151\n",
      "11: vvs-20kHz-12.8k-rightEar-realigned_20231120_163043\n"
     ]
    }
   ],
   "source": [
    "# import the PCD file and recording data\n",
    "import open3d as o3d\n",
    "import os\n",
    "import glob\n",
    "from data_importer import PointCloudManager, DataExtractor\n",
    "\n",
    "\n",
    "\"\"\"\n",
    "This block processes point cloud data and extracts audio recording data.\n",
    "\n",
    "Returns:\n",
    "- pcd_mic (open3d.geometry.PointCloud): Point cloud data from microphone.\n",
    "- pcd (open3d.geometry.PointCloud): Point cloud data.\n",
    "- filtered_pcd (open3d.geometry.PointCloud): Filtered point cloud data.\n",
    "- recording (numpy.ndarray): Audio recording data.\n",
    "\"\"\"\n",
    "base_folder = \"postPCD\"  # dir to PCD folders\n",
    "manager = PointCloudManager(base_folder)\n",
    "pcd_mic, pcd, cpcd = manager.run()\n",
    "\n",
    "extractor = DataExtractor('HP-side~0.4m-lose.mat')\n",
    "recording = extractor.load_data()"
   ]
  },
  {
   "cell_type": "code",
   "execution_count": 2,
   "metadata": {},
   "outputs": [
    {
     "name": "stdout",
     "output_type": "stream",
     "text": [
      "Modules to reload:\n",
      "SoundFieldAnalysis\n",
      "\n",
      "Modules to skip:\n",
      "\n"
     ]
    }
   ],
   "source": [
    "%load_ext autoreload\n",
    "%aimport SoundFieldAnalysis\n",
    "%autoreload 1\n",
    "%aimport"
   ]
  },
  {
   "cell_type": "code",
   "execution_count": 3,
   "metadata": {},
   "outputs": [
    {
     "data": {
      "application/vnd.jupyter.widget-view+json": {
       "model_id": "c80ac5650e354901b9be0f93277e0e8b",
       "version_major": 2,
       "version_minor": 0
      },
      "text/plain": [
       "Checkbox(value=False, description='chooese if you want to recalculate the results', indent=False)"
      ]
     },
     "metadata": {},
     "output_type": "display_data"
    },
    {
     "name": "stdout",
     "output_type": "stream",
     "text": [
      "recalculate the results\n"
     ]
    }
   ],
   "source": [
    "import ipywidgets as widgets\n",
    "from IPython.display import display\n",
    "\n",
    "# create a checkbox\n",
    "checkbox = widgets.Checkbox(\n",
    "    value=False,\n",
    "    description='chooese if you want to recalculate the results',\n",
    "    disabled=False,\n",
    "    indent=False\n",
    ")\n",
    "\n",
    "# display the checkbox\n",
    "display(checkbox)\n",
    "\n",
    "# use a function to print the checkbox's value\n",
    "def on_checkbox_change(change):\n",
    "    if change['new']:  # while the checkbox is checked\n",
    "        print(\"recalculate the results\")\n",
    "    else:\n",
    "        print(\"Checkbox is False\")\n",
    "\n",
    "# get the checkbox's current value\n",
    "checkbox.observe(on_checkbox_change, names='value')"
   ]
  },
  {
   "cell_type": "code",
   "execution_count": 12,
   "metadata": {},
   "outputs": [
    {
     "name": "stdout",
     "output_type": "stream",
     "text": [
      "===============================================================================\n",
      "                                     CVXPY                                     \n",
      "                                     v1.4.1                                    \n",
      "===============================================================================\n",
      "(CVXPY) Jan 03 10:22:10 AM: Your problem has 53750 variables, 3 constraints, and 0 parameters.\n",
      "(CVXPY) Jan 03 10:22:10 AM: It is compliant with the following grammars: DCP, DQCP\n",
      "(CVXPY) Jan 03 10:22:10 AM: (If you need to solve this problem multiple times, but with different data, consider using parameters.)\n",
      "(CVXPY) Jan 03 10:22:10 AM: CVXPY will first compile your problem; then, it will invoke a numerical solver to obtain a solution.\n",
      "(CVXPY) Jan 03 10:22:10 AM: Your problem is compiled with the CPP canonicalization backend.\n",
      "-------------------------------------------------------------------------------\n",
      "                                  Compilation                                  \n",
      "-------------------------------------------------------------------------------\n",
      "(CVXPY) Jan 03 10:22:10 AM: Compiling problem (target solver=ECOS).\n",
      "(CVXPY) Jan 03 10:22:10 AM: Reduction chain: Complex2Real -> Dcp2Cone -> CvxAttr2Constr -> ConeMatrixStuffing -> ECOS\n",
      "(CVXPY) Jan 03 10:22:10 AM: Applying reduction Complex2Real\n",
      "(CVXPY) Jan 03 10:22:10 AM: Applying reduction Dcp2Cone\n",
      "(CVXPY) Jan 03 10:22:10 AM: Applying reduction CvxAttr2Constr\n",
      "(CVXPY) Jan 03 10:22:10 AM: Applying reduction ConeMatrixStuffing\n",
      "(CVXPY) Jan 03 10:22:13 AM: Applying reduction ECOS\n",
      "(CVXPY) Jan 03 10:22:15 AM: Finished problem compilation (took 4.951e+00 seconds).\n",
      "-------------------------------------------------------------------------------\n",
      "                                Numerical solver                               \n",
      "-------------------------------------------------------------------------------\n",
      "(CVXPY) Jan 03 10:22:15 AM: Invoking solver ECOS  to obtain a solution.\n",
      "Unexpected exception formatting exception. Falling back to standard exception\n"
     ]
    },
    {
     "name": "stderr",
     "output_type": "stream",
     "text": [
      "Traceback (most recent call last):\n",
      "  File \"c:\\Users\\ZHLI\\AppData\\Local\\anaconda3\\envs\\jpylab-env\\lib\\site-packages\\IPython\\core\\interactiveshell.py\", line 3526, in run_code\n",
      "    exec(code_obj, self.user_global_ns, self.user_ns)\n",
      "  File \"C:\\Users\\ZHLI\\AppData\\Local\\Temp\\ipykernel_13304\\3457347933.py\", line 11, in <module>\n",
      "    result = BF_analysis.gen_result(mode)\n",
      "  File \"c:\\ZIM\\MasterThesisProject\\Stage4\\3d_beamforming\\SoundFieldAnalysis.py\", line 263, in gen_result\n",
      "    result_J = self.CS()\n",
      "  File \"c:\\ZIM\\MasterThesisProject\\Stage4\\3d_beamforming\\SoundFieldAnalysis.py\", line 176, in CS\n",
      "    result = prob.solve(solver=cp.ECOS, max_iters=max_iters, verbose=True, eps = 1e-5)\n",
      "  File \"c:\\Users\\ZHLI\\AppData\\Local\\anaconda3\\envs\\jpylab-env\\lib\\site-packages\\cvxpy\\problems\\problem.py\", line 503, in solve\n",
      "    return solve_func(self, *args, **kwargs)\n",
      "  File \"c:\\Users\\ZHLI\\AppData\\Local\\anaconda3\\envs\\jpylab-env\\lib\\site-packages\\cvxpy\\problems\\problem.py\", line 1082, in _solve\n",
      "    solution = solving_chain.solve_via_data(\n",
      "  File \"c:\\Users\\ZHLI\\AppData\\Local\\anaconda3\\envs\\jpylab-env\\lib\\site-packages\\cvxpy\\reductions\\solvers\\solving_chain.py\", line 453, in solve_via_data\n",
      "    return self.solver.solve_via_data(data, warm_start, verbose,\n",
      "  File \"c:\\Users\\ZHLI\\AppData\\Local\\anaconda3\\envs\\jpylab-env\\lib\\site-packages\\cvxpy\\reductions\\solvers\\conic_solvers\\ecos_conif.py\", line 137, in solve_via_data\n",
      "    solution = ecos.solve(data[s.C], data[s.G], data[s.H],\n",
      "  File \"c:\\Users\\ZHLI\\AppData\\Local\\anaconda3\\envs\\jpylab-env\\lib\\site-packages\\ecos\\ecos.py\", line 60, in solve\n",
      "    return _ecos.csolve((m,n1,p), c, data, indices, colptr, h, dims, **kwargs)\n",
      "TypeError: 'eps' is an invalid keyword argument for this function\n",
      "\n",
      "During handling of the above exception, another exception occurred:\n",
      "\n",
      "Traceback (most recent call last):\n",
      "  File \"c:\\Users\\ZHLI\\AppData\\Local\\anaconda3\\envs\\jpylab-env\\lib\\site-packages\\IPython\\core\\interactiveshell.py\", line 2120, in showtraceback\n",
      "    stb = self.InteractiveTB.structured_traceback(\n",
      "  File \"c:\\Users\\ZHLI\\AppData\\Local\\anaconda3\\envs\\jpylab-env\\lib\\site-packages\\IPython\\core\\ultratb.py\", line 1435, in structured_traceback\n",
      "    return FormattedTB.structured_traceback(\n",
      "  File \"c:\\Users\\ZHLI\\AppData\\Local\\anaconda3\\envs\\jpylab-env\\lib\\site-packages\\IPython\\core\\ultratb.py\", line 1326, in structured_traceback\n",
      "    return VerboseTB.structured_traceback(\n",
      "  File \"c:\\Users\\ZHLI\\AppData\\Local\\anaconda3\\envs\\jpylab-env\\lib\\site-packages\\IPython\\core\\ultratb.py\", line 1173, in structured_traceback\n",
      "    formatted_exception = self.format_exception_as_a_whole(etype, evalue, etb, number_of_lines_of_context,\n",
      "  File \"c:\\Users\\ZHLI\\AppData\\Local\\anaconda3\\envs\\jpylab-env\\lib\\site-packages\\IPython\\core\\ultratb.py\", line 1088, in format_exception_as_a_whole\n",
      "    frames.append(self.format_record(record))\n",
      "  File \"c:\\Users\\ZHLI\\AppData\\Local\\anaconda3\\envs\\jpylab-env\\lib\\site-packages\\IPython\\core\\ultratb.py\", line 970, in format_record\n",
      "    frame_info.lines, Colors, self.has_colors, lvals\n",
      "  File \"c:\\Users\\ZHLI\\AppData\\Local\\anaconda3\\envs\\jpylab-env\\lib\\site-packages\\IPython\\core\\ultratb.py\", line 792, in lines\n",
      "    return self._sd.lines\n",
      "  File \"c:\\Users\\ZHLI\\AppData\\Local\\anaconda3\\envs\\jpylab-env\\lib\\site-packages\\stack_data\\utils.py\", line 145, in cached_property_wrapper\n",
      "    value = obj.__dict__[self.func.__name__] = self.func(obj)\n",
      "  File \"c:\\Users\\ZHLI\\AppData\\Local\\anaconda3\\envs\\jpylab-env\\lib\\site-packages\\stack_data\\core.py\", line 698, in lines\n",
      "    pieces = self.included_pieces\n",
      "  File \"c:\\Users\\ZHLI\\AppData\\Local\\anaconda3\\envs\\jpylab-env\\lib\\site-packages\\stack_data\\utils.py\", line 145, in cached_property_wrapper\n",
      "    value = obj.__dict__[self.func.__name__] = self.func(obj)\n",
      "  File \"c:\\Users\\ZHLI\\AppData\\Local\\anaconda3\\envs\\jpylab-env\\lib\\site-packages\\stack_data\\core.py\", line 649, in included_pieces\n",
      "    pos = scope_pieces.index(self.executing_piece)\n",
      "  File \"c:\\Users\\ZHLI\\AppData\\Local\\anaconda3\\envs\\jpylab-env\\lib\\site-packages\\stack_data\\utils.py\", line 145, in cached_property_wrapper\n",
      "    value = obj.__dict__[self.func.__name__] = self.func(obj)\n",
      "  File \"c:\\Users\\ZHLI\\AppData\\Local\\anaconda3\\envs\\jpylab-env\\lib\\site-packages\\stack_data\\core.py\", line 628, in executing_piece\n",
      "    return only(\n",
      "  File \"c:\\Users\\ZHLI\\AppData\\Local\\anaconda3\\envs\\jpylab-env\\lib\\site-packages\\executing\\executing.py\", line 164, in only\n",
      "    raise NotOneValueFound('Expected one value, found 0')\n",
      "executing.executing.NotOneValueFound: Expected one value, found 0\n"
     ]
    }
   ],
   "source": [
    "from SoundFieldAnalysis import SoundFieldAnalysis\n",
    "\n",
    "freq = 2000\n",
    "mode = 'CS'\n",
    "# initialize the variables\n",
    "BF_analysis = SoundFieldAnalysis(pcd_mic,recording,cpcd, freq=freq)\n",
    "BF_analysis.calculate_sparse()\n",
    "\n",
    "# inorder to avoid re-calculation of the same thing\n",
    "if checkbox.value or 'result' not in globals() or freq != globals()['freq_s'] or mode != globals()['mode_s']:\n",
    "    result = BF_analysis.gen_result(mode)\n",
    "    freq_s = freq\n",
    "    mode_s = mode"
   ]
  },
  {
   "cell_type": "code",
   "execution_count": 115,
   "metadata": {},
   "outputs": [
    {
     "name": "stdout",
     "output_type": "stream",
     "text": [
      "For point selecting\n",
      "1) Please pick points using [shift + left click]\n",
      "   Press [shift + right click] to undo point picking\n",
      "2) After picking points, press 'Q' to close the window\n",
      "For crop the model\n",
      "Press Y to switch to the ortho view, \n",
      " K to lock the view and pick cropping area \n",
      " C to crop \n",
      " F to free view\n",
      "\n",
      " After picking points, press Q to quit, cropped model will be saved in variable \"pcd\"\n",
      "[Open3D INFO] Picked point #26269 (0.081, 0.11, 0.23) to add in queue.\n",
      "[Open3D INFO] Picked point #30103 (0.033, 0.058, 0.23) to add in queue.\n",
      "[Open3D INFO] Picked point #10972 (0.042, 0.029, 0.21) to add in queue.\n",
      "[Open3D INFO] Picked point #18265 (0.099, 0.00020, 0.21) to add in queue.\n"
     ]
    }
   ],
   "source": [
    "import pcd_aligner\n",
    "# modify the model\n",
    "cpcd_path = f\"{manager.directory}/model_2.ply\"\n",
    "mic_path = f\"{manager.directory}/model_0.ply\"\n",
    "processor = pcd_aligner.PointCloud_PreProcessor(cpcd_path)\n",
    "cpcd = processor.pcd_crop(pcd = cpcd, save = True)"
   ]
  },
  {
   "cell_type": "code",
   "execution_count": 118,
   "metadata": {},
   "outputs": [
    {
     "ename": "LinAlgError",
     "evalue": "0-dimensional array given. Array must be at least two-dimensional",
     "output_type": "error",
     "traceback": [
      "\u001b[1;31m---------------------------------------------------------------------------\u001b[0m",
      "\u001b[1;31mLinAlgError\u001b[0m                               Traceback (most recent call last)",
      "Cell \u001b[1;32mIn[118], line 20\u001b[0m\n\u001b[0;32m     18\u001b[0m \u001b[38;5;66;03m# initialize the variables\u001b[39;00m\n\u001b[0;32m     19\u001b[0m BF_analysis \u001b[38;5;241m=\u001b[39m SoundFieldAnalysis(pcd_mic,recording,single_point_pcd, freq\u001b[38;5;241m=\u001b[39mfreq)\n\u001b[1;32m---> 20\u001b[0m result \u001b[38;5;241m=\u001b[39m \u001b[43mBF_analysis\u001b[49m\u001b[38;5;241;43m.\u001b[39;49m\u001b[43mgen_result\u001b[49m\u001b[43m(\u001b[49m\u001b[43mmode\u001b[49m\u001b[43m)\u001b[49m\n\u001b[0;32m     21\u001b[0m result_muti\u001b[38;5;241m.\u001b[39mappend(result)\n",
      "File \u001b[1;32mc:\\ZIM\\MasterThesisProject\\Stage4\\3d_beamforming\\SoundFieldAnalysis.py:253\u001b[0m, in \u001b[0;36mSoundFieldAnalysis.gen_result\u001b[1;34m(self, mode)\u001b[0m\n\u001b[0;32m    251\u001b[0m     plotc \u001b[38;5;241m=\u001b[39m \u001b[38;5;241m20\u001b[39m \u001b[38;5;241m*\u001b[39m np\u001b[38;5;241m.\u001b[39mlog10(np\u001b[38;5;241m.\u001b[39mabs(result_J \u001b[38;5;241m/\u001b[39m \u001b[38;5;241m20e-6\u001b[39m))\n\u001b[0;32m    252\u001b[0m \u001b[38;5;28;01melif\u001b[39;00m mode\u001b[38;5;241m.\u001b[39mstartswith(\u001b[38;5;124m\"\u001b[39m\u001b[38;5;124mMUSIC\u001b[39m\u001b[38;5;124m\"\u001b[39m):\n\u001b[1;32m--> 253\u001b[0m     result_J \u001b[38;5;241m=\u001b[39m \u001b[38;5;28;43mself\u001b[39;49m\u001b[38;5;241;43m.\u001b[39;49m\u001b[43mMUSIC\u001b[49m\u001b[43m(\u001b[49m\u001b[43msignal_number\u001b[49m\u001b[38;5;241;43m=\u001b[39;49m\u001b[38;5;28;43mint\u001b[39;49m\u001b[43m(\u001b[49m\u001b[43mmode\u001b[49m\u001b[43m[\u001b[49m\u001b[38;5;241;43m-\u001b[39;49m\u001b[38;5;241;43m1\u001b[39;49m\u001b[43m]\u001b[49m\u001b[43m)\u001b[49m\u001b[43m)\u001b[49m\n\u001b[0;32m    254\u001b[0m     plotc \u001b[38;5;241m=\u001b[39m \u001b[38;5;241m20\u001b[39m \u001b[38;5;241m*\u001b[39m np\u001b[38;5;241m.\u001b[39mlog10(np\u001b[38;5;241m.\u001b[39mabs(result_J \u001b[38;5;241m/\u001b[39m \u001b[38;5;241m20e-6\u001b[39m))\n\u001b[0;32m    255\u001b[0m \u001b[38;5;28;01melif\u001b[39;00m mode \u001b[38;5;241m==\u001b[39m \u001b[38;5;124m\"\u001b[39m\u001b[38;5;124mCS\u001b[39m\u001b[38;5;124m\"\u001b[39m:\n",
      "File \u001b[1;32mc:\\ZIM\\MasterThesisProject\\Stage4\\3d_beamforming\\SoundFieldAnalysis.py:122\u001b[0m, in \u001b[0;36mSoundFieldAnalysis.MUSIC\u001b[1;34m(self, signal_number)\u001b[0m\n\u001b[0;32m    120\u001b[0m \u001b[38;5;28;01mdef\u001b[39;00m \u001b[38;5;21mMUSIC\u001b[39m(\u001b[38;5;28mself\u001b[39m, signal_number):\n\u001b[0;32m    121\u001b[0m     S \u001b[38;5;241m=\u001b[39m \u001b[38;5;28mself\u001b[39m\u001b[38;5;241m.\u001b[39mS\n\u001b[1;32m--> 122\u001b[0m     eigVal, eigVec \u001b[38;5;241m=\u001b[39m \u001b[43mnp\u001b[49m\u001b[38;5;241;43m.\u001b[39;49m\u001b[43mlinalg\u001b[49m\u001b[38;5;241;43m.\u001b[39;49m\u001b[43meig\u001b[49m\u001b[43m(\u001b[49m\u001b[43mS\u001b[49m\u001b[43m)\u001b[49m\n\u001b[0;32m    123\u001b[0m     eigVal, eigVec \u001b[38;5;241m=\u001b[39m \u001b[38;5;28mself\u001b[39m\u001b[38;5;241m.\u001b[39mMUSIC_gen_eig(eigVal, eigVec, signal_number)\n\u001b[0;32m    125\u001b[0m     E_n \u001b[38;5;241m=\u001b[39m ((eigVec)\u001b[38;5;241m*\u001b[39meigVal)\n",
      "File \u001b[1;32m<__array_function__ internals>:200\u001b[0m, in \u001b[0;36meig\u001b[1;34m(*args, **kwargs)\u001b[0m\n",
      "File \u001b[1;32mc:\\Users\\ZHLI\\AppData\\Local\\anaconda3\\envs\\jpylab-env\\lib\\site-packages\\numpy\\linalg\\linalg.py:1296\u001b[0m, in \u001b[0;36meig\u001b[1;34m(a)\u001b[0m\n\u001b[0;32m   1170\u001b[0m \u001b[38;5;250m\u001b[39m\u001b[38;5;124;03m\"\"\"\u001b[39;00m\n\u001b[0;32m   1171\u001b[0m \u001b[38;5;124;03mCompute the eigenvalues and right eigenvectors of a square array.\u001b[39;00m\n\u001b[0;32m   1172\u001b[0m \n\u001b[1;32m   (...)\u001b[0m\n\u001b[0;32m   1293\u001b[0m \n\u001b[0;32m   1294\u001b[0m \u001b[38;5;124;03m\"\"\"\u001b[39;00m\n\u001b[0;32m   1295\u001b[0m a, wrap \u001b[38;5;241m=\u001b[39m _makearray(a)\n\u001b[1;32m-> 1296\u001b[0m \u001b[43m_assert_stacked_2d\u001b[49m\u001b[43m(\u001b[49m\u001b[43ma\u001b[49m\u001b[43m)\u001b[49m\n\u001b[0;32m   1297\u001b[0m _assert_stacked_square(a)\n\u001b[0;32m   1298\u001b[0m _assert_finite(a)\n",
      "File \u001b[1;32mc:\\Users\\ZHLI\\AppData\\Local\\anaconda3\\envs\\jpylab-env\\lib\\site-packages\\numpy\\linalg\\linalg.py:183\u001b[0m, in \u001b[0;36m_assert_stacked_2d\u001b[1;34m(*arrays)\u001b[0m\n\u001b[0;32m    181\u001b[0m \u001b[38;5;28;01mfor\u001b[39;00m a \u001b[38;5;129;01min\u001b[39;00m arrays:\n\u001b[0;32m    182\u001b[0m     \u001b[38;5;28;01mif\u001b[39;00m a\u001b[38;5;241m.\u001b[39mndim \u001b[38;5;241m<\u001b[39m \u001b[38;5;241m2\u001b[39m:\n\u001b[1;32m--> 183\u001b[0m         \u001b[38;5;28;01mraise\u001b[39;00m LinAlgError(\u001b[38;5;124m'\u001b[39m\u001b[38;5;132;01m%d\u001b[39;00m\u001b[38;5;124m-dimensional array given. Array must be \u001b[39m\u001b[38;5;124m'\u001b[39m\n\u001b[0;32m    184\u001b[0m                 \u001b[38;5;124m'\u001b[39m\u001b[38;5;124mat least two-dimensional\u001b[39m\u001b[38;5;124m'\u001b[39m \u001b[38;5;241m%\u001b[39m a\u001b[38;5;241m.\u001b[39mndim)\n",
      "\u001b[1;31mLinAlgError\u001b[0m: 0-dimensional array given. Array must be at least two-dimensional"
     ]
    }
   ],
   "source": [
    "import numpy as np\n",
    "\n",
    "freq_list = BF_analysis.get_freq_list(freq_range=[200, 8000])\n",
    "\n",
    "points_np = np.asarray(cpcd.points)\n",
    "picked_points_index = processor.vis.get_picked_points()\n",
    "picked_points = points_np[picked_points_index]\n",
    "single_point_pcd = o3d.geometry.PointCloud()\n",
    "\n",
    "# store the picked points in a point cloud\n",
    "single_point_pcd.points = o3d.utility.Vector3dVector(picked_points)\n",
    "\n",
    "result_muti = []\n",
    "for freq in freq_list:\n",
    "    # set the current frequency\n",
    "    BF_analysis.freq = freq\n",
    "    mode = 'MUSIC1'\n",
    "    # initialize the variables\n",
    "    BF_analysis = SoundFieldAnalysis(pcd_mic,recording,single_point_pcd, freq=freq)\n",
    "    result = BF_analysis.gen_result(mode)\n",
    "    result_muti.append(result)\n",
    "    "
   ]
  },
  {
   "cell_type": "code",
   "execution_count": 9,
   "metadata": {},
   "outputs": [
    {
     "data": {
      "text/plain": [
       "True"
      ]
     },
     "execution_count": 9,
     "metadata": {},
     "output_type": "execute_result"
    }
   ],
   "source": [
    "# write the modification to the file\n",
    "o3d.io.write_point_cloud(cpcd_path, cpcd)\n",
    "o3d.io.write_point_cloud(mic_path, pcd_mic)"
   ]
  },
  {
   "cell_type": "code",
   "execution_count": 7,
   "metadata": {},
   "outputs": [
    {
     "name": "stdout",
     "output_type": "stream",
     "text": [
      "For point selecting\n",
      "1) Please pick points using [shift + left click]\n",
      "   Press [shift + right click] to undo point picking\n",
      "2) After picking points, press 'Q' to close the window\n",
      "For crop the model\n",
      "Press Y to switch to the ortho view, \n",
      " K to lock the view and pick cropping area \n",
      " C to crop \n",
      " F to free view\n",
      "\n",
      " After picking points, press Q to quit, cropped model will be saved in variable \"pcd\"\n",
      "[Open3D INFO] Picked point #40079 (0.17, 0.11, -0.12) to add in queue.\n",
      "[Open3D INFO] Picked point #7239 (0.035, 0.082, -0.13) to add in queue.\n",
      "[Open3D INFO] Picked point #38770 (0.094, -0.025, -0.085) to add in queue.\n",
      "\n",
      "Picked points: [(0.17, 0.11, -0.12), (0.035, 0.082, -0.13), (0.094, -0.025, -0.085)]\n"
     ]
    }
   ],
   "source": [
    "# align the pcd coordinates\n",
    "cpcd, picked_points = processor.coordinates_align()\n",
    "\n",
    "origin = processor.apply_rotation(pcd_mic, picked_points)\n",
    "# apply translation\n",
    "pcd_mic = processor.apply_translation(pcd_mic, origin)"
   ]
  },
  {
   "cell_type": "code",
   "execution_count": 8,
   "metadata": {},
   "outputs": [],
   "source": [
    "o3d.visualization.draw_geometries([cpcd, processor.mesh_frame, pcd_mic])"
   ]
  },
  {
   "cell_type": "code",
   "execution_count": 10,
   "metadata": {},
   "outputs": [
    {
     "data": {
      "application/vnd.jupyter.widget-view+json": {
       "model_id": "89ae6098383c43f0b6c4b542a1645dd8",
       "version_major": 2,
       "version_minor": 0
      },
      "text/plain": [
       "Widget(value=\"<iframe src='http://localhost:51239/index.html?ui=P_0x1674bbb3640_2&reconnect=auto' style='width…"
      ]
     },
     "metadata": {},
     "output_type": "display_data"
    }
   ],
   "source": [
    "# plot the result\n",
    "plotter, p_range = BF_analysis.plot(result, dynamic_range=30, plot_mesh = True, opacity=None)\n",
    "# plotter.add_title(f\"Beamforming result at {freq} Hz\")\n",
    "plotter.show()"
   ]
  },
  {
   "cell_type": "code",
   "execution_count": 61,
   "metadata": {},
   "outputs": [
    {
     "name": "stdout",
     "output_type": "stream",
     "text": [
      "===============================================================================\n",
      "                                     CVXPY                                     \n",
      "                                     v1.4.1                                    \n",
      "===============================================================================\n",
      "(CVXPY) Jan 02 11:50:03 PM: Your problem has 10000 variables, 1 constraints, and 0 parameters.\n",
      "(CVXPY) Jan 02 11:50:03 PM: It is compliant with the following grammars: DCP, DQCP\n",
      "(CVXPY) Jan 02 11:50:03 PM: (If you need to solve this problem multiple times, but with different data, consider using parameters.)\n",
      "(CVXPY) Jan 02 11:50:03 PM: CVXPY will first compile your problem; then, it will invoke a numerical solver to obtain a solution.\n",
      "(CVXPY) Jan 02 11:50:03 PM: Your problem is compiled with the CPP canonicalization backend.\n",
      "-------------------------------------------------------------------------------\n",
      "                                  Compilation                                  \n",
      "-------------------------------------------------------------------------------\n",
      "(CVXPY) Jan 02 11:50:03 PM: Compiling problem (target solver=ECOS).\n",
      "(CVXPY) Jan 02 11:50:03 PM: Reduction chain: Complex2Real -> Dcp2Cone -> CvxAttr2Constr -> ConeMatrixStuffing -> ECOS\n",
      "(CVXPY) Jan 02 11:50:03 PM: Applying reduction Complex2Real\n",
      "(CVXPY) Jan 02 11:50:03 PM: Applying reduction Dcp2Cone\n",
      "(CVXPY) Jan 02 11:50:03 PM: Applying reduction CvxAttr2Constr\n",
      "(CVXPY) Jan 02 11:50:03 PM: Applying reduction ConeMatrixStuffing\n",
      "(CVXPY) Jan 02 11:50:04 PM: Applying reduction ECOS\n",
      "(CVXPY) Jan 02 11:50:04 PM: Finished problem compilation (took 8.236e-01 seconds).\n",
      "-------------------------------------------------------------------------------\n",
      "                                Numerical solver                               \n",
      "-------------------------------------------------------------------------------\n",
      "(CVXPY) Jan 02 11:50:04 PM: Invoking solver ECOS  to obtain a solution.\n"
     ]
    },
    {
     "ename": "SolverError",
     "evalue": "Solver 'ECOS' failed. Try another solver, or solve with verbose=True for more information.",
     "output_type": "error",
     "traceback": [
      "\u001b[1;31m---------------------------------------------------------------------------\u001b[0m",
      "\u001b[1;31mSolverError\u001b[0m                               Traceback (most recent call last)",
      "Cell \u001b[1;32mIn[61], line 1\u001b[0m\n\u001b[1;32m----> 1\u001b[0m plotter_add_slice, cloud \u001b[38;5;241m=\u001b[39m \u001b[43mBF_analysis\u001b[49m\u001b[38;5;241;43m.\u001b[39;49m\u001b[43madd_slicer\u001b[49m\u001b[43m(\u001b[49m\u001b[43mplotter\u001b[49m\u001b[43m,\u001b[49m\u001b[43m \u001b[49m\u001b[43mmode\u001b[49m\u001b[43m,\u001b[49m\u001b[43m \u001b[49m\u001b[43mp_range\u001b[49m\u001b[43m \u001b[49m\u001b[38;5;241;43m=\u001b[39;49m\u001b[43m \u001b[49m\u001b[43mp_range\u001b[49m\u001b[43m,\u001b[49m\u001b[43m \u001b[49m\u001b[43mplane\u001b[49m\u001b[38;5;241;43m=\u001b[39;49m\u001b[38;5;124;43m'\u001b[39;49m\u001b[38;5;124;43myz\u001b[39;49m\u001b[38;5;124;43m'\u001b[39;49m\u001b[43m,\u001b[49m\u001b[43m \u001b[49m\n\u001b[0;32m      2\u001b[0m \u001b[43m                                           \u001b[49m\u001b[43mcenter\u001b[49m\u001b[43m \u001b[49m\u001b[38;5;241;43m=\u001b[39;49m\u001b[43m \u001b[49m\u001b[43m[\u001b[49m\u001b[38;5;241;43m0.1\u001b[39;49m\u001b[43m,\u001b[49m\u001b[38;5;241;43m0.2\u001b[39;49m\u001b[43m]\u001b[49m\u001b[43m,\u001b[49m\u001b[43mposition\u001b[49m\u001b[38;5;241;43m=\u001b[39;49m\u001b[38;5;241;43m0.1\u001b[39;49m\u001b[43m,\u001b[49m\u001b[43m \u001b[49m\n\u001b[0;32m      3\u001b[0m \u001b[43m                                           \u001b[49m\u001b[43msize\u001b[49m\u001b[38;5;241;43m=\u001b[39;49m\u001b[43m[\u001b[49m\u001b[38;5;241;43m0.5\u001b[39;49m\u001b[43m,\u001b[49m\u001b[43m \u001b[49m\u001b[38;5;241;43m0.4\u001b[39;49m\u001b[43m]\u001b[49m\u001b[43m,\u001b[49m\u001b[43m \u001b[49m\u001b[43mplot_mesh\u001b[49m\u001b[38;5;241;43m=\u001b[39;49m\u001b[38;5;28;43;01mFalse\u001b[39;49;00m\u001b[43m,\u001b[49m\n\u001b[0;32m      4\u001b[0m \u001b[43m                                           \u001b[49m\u001b[43mdynamic_range\u001b[49m\u001b[38;5;241;43m=\u001b[39;49m\u001b[38;5;241;43m20\u001b[39;49m\u001b[43m)\u001b[49m\n",
      "File \u001b[1;32mc:\\ZIM\\MasterThesisProject\\Stage4\\3d_beamforming\\SoundFieldAnalysis.py:238\u001b[0m, in \u001b[0;36mSoundFieldAnalysis.add_slicer\u001b[1;34m(self, plotter, mode, p_range, center, dynamic_range, max_crop, plane, position, size, density, plot_mesh)\u001b[0m\n\u001b[0;32m    235\u001b[0m \u001b[38;5;28;01melse\u001b[39;00m:\n\u001b[0;32m    236\u001b[0m     cloud \u001b[38;5;241m=\u001b[39m pv\u001b[38;5;241m.\u001b[39mPolyData(points)\n\u001b[1;32m--> 238\u001b[0m plotc \u001b[38;5;241m=\u001b[39m \u001b[38;5;28;43mself\u001b[39;49m\u001b[38;5;241;43m.\u001b[39;49m\u001b[43mgen_result\u001b[49m\u001b[43m(\u001b[49m\u001b[43mmode\u001b[49m\u001b[43m)\u001b[49m\n\u001b[0;32m    239\u001b[0m \u001b[38;5;28;01mif\u001b[39;00m p_range \u001b[38;5;129;01mis\u001b[39;00m \u001b[38;5;28;01mNone\u001b[39;00m:\n\u001b[0;32m    240\u001b[0m     plotc_clamped, p_range \u001b[38;5;241m=\u001b[39m \u001b[38;5;28mself\u001b[39m\u001b[38;5;241m.\u001b[39mclamp(plotc, dynamic_range, max_crop)\n",
      "File \u001b[1;32mc:\\ZIM\\MasterThesisProject\\Stage4\\3d_beamforming\\SoundFieldAnalysis.py:257\u001b[0m, in \u001b[0;36mSoundFieldAnalysis.gen_result\u001b[1;34m(self, mode)\u001b[0m\n\u001b[0;32m    255\u001b[0m     plotc \u001b[38;5;241m=\u001b[39m \u001b[38;5;241m20\u001b[39m \u001b[38;5;241m*\u001b[39m np\u001b[38;5;241m.\u001b[39mlog10(np\u001b[38;5;241m.\u001b[39mabs(result_J \u001b[38;5;241m/\u001b[39m \u001b[38;5;241m20e-6\u001b[39m))\n\u001b[0;32m    256\u001b[0m \u001b[38;5;28;01melif\u001b[39;00m mode \u001b[38;5;241m==\u001b[39m \u001b[38;5;124m\"\u001b[39m\u001b[38;5;124mCS\u001b[39m\u001b[38;5;124m\"\u001b[39m:\n\u001b[1;32m--> 257\u001b[0m     result_J \u001b[38;5;241m=\u001b[39m \u001b[38;5;28;43mself\u001b[39;49m\u001b[38;5;241;43m.\u001b[39;49m\u001b[43mCS\u001b[49m\u001b[43m(\u001b[49m\u001b[43m)\u001b[49m\n\u001b[0;32m    258\u001b[0m     plotc \u001b[38;5;241m=\u001b[39m \u001b[38;5;241m20\u001b[39m \u001b[38;5;241m*\u001b[39m np\u001b[38;5;241m.\u001b[39mlog10(np\u001b[38;5;241m.\u001b[39mabs(result_J \u001b[38;5;241m/\u001b[39m \u001b[38;5;241m20e-6\u001b[39m))\n\u001b[0;32m    259\u001b[0m \u001b[38;5;28;01mreturn\u001b[39;00m plotc\n",
      "File \u001b[1;32mc:\\ZIM\\MasterThesisProject\\Stage4\\3d_beamforming\\SoundFieldAnalysis.py:170\u001b[0m, in \u001b[0;36mSoundFieldAnalysis.CS\u001b[1;34m(self)\u001b[0m\n\u001b[0;32m    167\u001b[0m max_iters \u001b[38;5;241m=\u001b[39m \u001b[38;5;241m3000\u001b[39m\n\u001b[0;32m    169\u001b[0m \u001b[38;5;66;03m# The optimal objective value is returned by `prob.solve()`.\u001b[39;00m\n\u001b[1;32m--> 170\u001b[0m result \u001b[38;5;241m=\u001b[39m \u001b[43mprob\u001b[49m\u001b[38;5;241;43m.\u001b[39;49m\u001b[43msolve\u001b[49m\u001b[43m(\u001b[49m\u001b[43msolver\u001b[49m\u001b[38;5;241;43m=\u001b[39;49m\u001b[43mcp\u001b[49m\u001b[38;5;241;43m.\u001b[39;49m\u001b[43mECOS\u001b[49m\u001b[43m,\u001b[49m\u001b[43m \u001b[49m\u001b[43mmax_iters\u001b[49m\u001b[38;5;241;43m=\u001b[39;49m\u001b[43mmax_iters\u001b[49m\u001b[43m,\u001b[49m\u001b[43m \u001b[49m\u001b[43mverbose\u001b[49m\u001b[38;5;241;43m=\u001b[39;49m\u001b[38;5;28;43;01mTrue\u001b[39;49;00m\u001b[43m)\u001b[49m\n\u001b[0;32m    172\u001b[0m \u001b[38;5;66;03m# if prob.status == \"optimal\":\u001b[39;00m\n\u001b[0;32m    173\u001b[0m optimal_x \u001b[38;5;241m=\u001b[39m x\u001b[38;5;241m.\u001b[39mvalue\n",
      "File \u001b[1;32mc:\\Users\\ZHLI\\AppData\\Local\\anaconda3\\envs\\jpylab-env\\lib\\site-packages\\cvxpy\\problems\\problem.py:503\u001b[0m, in \u001b[0;36mProblem.solve\u001b[1;34m(self, *args, **kwargs)\u001b[0m\n\u001b[0;32m    501\u001b[0m \u001b[38;5;28;01melse\u001b[39;00m:\n\u001b[0;32m    502\u001b[0m     solve_func \u001b[38;5;241m=\u001b[39m Problem\u001b[38;5;241m.\u001b[39m_solve\n\u001b[1;32m--> 503\u001b[0m \u001b[38;5;28;01mreturn\u001b[39;00m solve_func(\u001b[38;5;28mself\u001b[39m, \u001b[38;5;241m*\u001b[39margs, \u001b[38;5;241m*\u001b[39m\u001b[38;5;241m*\u001b[39mkwargs)\n",
      "File \u001b[1;32mc:\\Users\\ZHLI\\AppData\\Local\\anaconda3\\envs\\jpylab-env\\lib\\site-packages\\cvxpy\\problems\\problem.py:1086\u001b[0m, in \u001b[0;36mProblem._solve\u001b[1;34m(self, solver, warm_start, verbose, gp, qcp, requires_grad, enforce_dpp, ignore_dpp, canon_backend, **kwargs)\u001b[0m\n\u001b[0;32m   1084\u001b[0m end \u001b[38;5;241m=\u001b[39m time\u001b[38;5;241m.\u001b[39mtime()\n\u001b[0;32m   1085\u001b[0m \u001b[38;5;28mself\u001b[39m\u001b[38;5;241m.\u001b[39m_solve_time \u001b[38;5;241m=\u001b[39m end \u001b[38;5;241m-\u001b[39m start\n\u001b[1;32m-> 1086\u001b[0m \u001b[38;5;28;43mself\u001b[39;49m\u001b[38;5;241;43m.\u001b[39;49m\u001b[43munpack_results\u001b[49m\u001b[43m(\u001b[49m\u001b[43msolution\u001b[49m\u001b[43m,\u001b[49m\u001b[43m \u001b[49m\u001b[43msolving_chain\u001b[49m\u001b[43m,\u001b[49m\u001b[43m \u001b[49m\u001b[43minverse_data\u001b[49m\u001b[43m)\u001b[49m\n\u001b[0;32m   1087\u001b[0m \u001b[38;5;28;01mif\u001b[39;00m verbose:\n\u001b[0;32m   1088\u001b[0m     \u001b[38;5;28mprint\u001b[39m(_FOOTER)\n",
      "File \u001b[1;32mc:\\Users\\ZHLI\\AppData\\Local\\anaconda3\\envs\\jpylab-env\\lib\\site-packages\\cvxpy\\problems\\problem.py:1411\u001b[0m, in \u001b[0;36mProblem.unpack_results\u001b[1;34m(self, solution, chain, inverse_data)\u001b[0m\n\u001b[0;32m   1409\u001b[0m     warnings\u001b[38;5;241m.\u001b[39mwarn(INF_OR_UNB_MESSAGE)\n\u001b[0;32m   1410\u001b[0m \u001b[38;5;28;01mif\u001b[39;00m solution\u001b[38;5;241m.\u001b[39mstatus \u001b[38;5;129;01min\u001b[39;00m s\u001b[38;5;241m.\u001b[39mERROR:\n\u001b[1;32m-> 1411\u001b[0m     \u001b[38;5;28;01mraise\u001b[39;00m error\u001b[38;5;241m.\u001b[39mSolverError(\n\u001b[0;32m   1412\u001b[0m             \u001b[38;5;124m\"\u001b[39m\u001b[38;5;124mSolver \u001b[39m\u001b[38;5;124m'\u001b[39m\u001b[38;5;132;01m%s\u001b[39;00m\u001b[38;5;124m'\u001b[39m\u001b[38;5;124m failed. \u001b[39m\u001b[38;5;124m\"\u001b[39m \u001b[38;5;241m%\u001b[39m chain\u001b[38;5;241m.\u001b[39msolver\u001b[38;5;241m.\u001b[39mname() \u001b[38;5;241m+\u001b[39m\n\u001b[0;32m   1413\u001b[0m             \u001b[38;5;124m\"\u001b[39m\u001b[38;5;124mTry another solver, or solve with verbose=True for more \u001b[39m\u001b[38;5;124m\"\u001b[39m\n\u001b[0;32m   1414\u001b[0m             \u001b[38;5;124m\"\u001b[39m\u001b[38;5;124minformation.\u001b[39m\u001b[38;5;124m\"\u001b[39m)\n\u001b[0;32m   1416\u001b[0m \u001b[38;5;28mself\u001b[39m\u001b[38;5;241m.\u001b[39munpack(solution)\n\u001b[0;32m   1417\u001b[0m \u001b[38;5;28mself\u001b[39m\u001b[38;5;241m.\u001b[39m_solver_stats \u001b[38;5;241m=\u001b[39m SolverStats\u001b[38;5;241m.\u001b[39mfrom_dict(\u001b[38;5;28mself\u001b[39m\u001b[38;5;241m.\u001b[39m_solution\u001b[38;5;241m.\u001b[39mattr,\n\u001b[0;32m   1418\u001b[0m                                  chain\u001b[38;5;241m.\u001b[39msolver\u001b[38;5;241m.\u001b[39mname())\n",
      "\u001b[1;31mSolverError\u001b[0m: Solver 'ECOS' failed. Try another solver, or solve with verbose=True for more information."
     ]
    }
   ],
   "source": [
    "\n",
    "\n",
    "plotter_add_slice, cloud = BF_analysis.add_slicer(plotter, mode, p_range = p_range, plane='yz', \n",
    "                                           center = [0.1,0.2],position=0.1, \n",
    "                                           size=[0.5, 0.4], plot_mesh=False,\n",
    "                                           dynamic_range=20)\n"
   ]
  },
  {
   "cell_type": "code",
   "execution_count": 60,
   "metadata": {},
   "outputs": [
    {
     "name": "stderr",
     "output_type": "stream",
     "text": [
      "Task exception was never retrieved\n",
      "future: <Task finished name='Task-1607' coro=<WslinkHandler.sendWrappedMessage() done, defined at c:\\Users\\ZHLI\\AppData\\Local\\anaconda3\\envs\\jpylab-env\\lib\\site-packages\\wslink\\protocol.py:423> exception=ConnectionResetError('Cannot write to closing transport')>\n",
      "Traceback (most recent call last):\n",
      "  File \"c:\\Users\\ZHLI\\AppData\\Local\\anaconda3\\envs\\jpylab-env\\lib\\asyncio\\tasks.py\", line 232, in __step\n",
      "    result = coro.send(None)\n",
      "  File \"c:\\Users\\ZHLI\\AppData\\Local\\anaconda3\\envs\\jpylab-env\\lib\\site-packages\\wslink\\protocol.py\", line 477, in sendWrappedMessage\n",
      "    await ws.send_bytes(attachments[key])\n",
      "  File \"c:\\Users\\ZHLI\\AppData\\Local\\anaconda3\\envs\\jpylab-env\\lib\\site-packages\\aiohttp\\web_ws.py\", line 343, in send_bytes\n",
      "    await self._writer.send(data, binary=True, compress=compress)\n",
      "  File \"c:\\Users\\ZHLI\\AppData\\Local\\anaconda3\\envs\\jpylab-env\\lib\\site-packages\\aiohttp\\http_websocket.py\", line 721, in send\n",
      "    await self._send_frame(message, WSMsgType.BINARY, compress)\n",
      "  File \"c:\\Users\\ZHLI\\AppData\\Local\\anaconda3\\envs\\jpylab-env\\lib\\site-packages\\aiohttp\\http_websocket.py\", line 684, in _send_frame\n",
      "    self._write(message)\n",
      "  File \"c:\\Users\\ZHLI\\AppData\\Local\\anaconda3\\envs\\jpylab-env\\lib\\site-packages\\aiohttp\\http_websocket.py\", line 696, in _write\n",
      "    raise ConnectionResetError(\"Cannot write to closing transport\")\n",
      "ConnectionResetError: Cannot write to closing transport\n"
     ]
    },
    {
     "data": {
      "application/vnd.jupyter.widget-view+json": {
       "model_id": "a85f20cc99cc4b12b25dbe9a4724f56c",
       "version_major": 2,
       "version_minor": 0
      },
      "text/plain": [
       "Widget(value=\"<iframe src='http://localhost:49552/index.html?ui=P_0x1b488ce93f0_21&reconnect=auto' style='widt…"
      ]
     },
     "metadata": {},
     "output_type": "display_data"
    },
    {
     "name": "stdout",
     "output_type": "stream",
     "text": [
      " JS Error => Malformed message:  {\"wslink\": \"1.0\", \"id\": \"publish:trame.vtk.delta:0\", \"result\": {\"parent\": \"0x0\", \"id\": 22, \"type\": \"vtkWin32OpenGLRenderWindow\", \"properties\": {\"numberOfLayers\": 2}, \"dependencies\": [{\"parent\": \"000001b43d744c50\", \"id\": \"000001b4afb3e120\", \"type\": \"vtkOpenGLRenderer\", \"properties\": {\"background\": [1.0, 1.0, 1.0], \"background2\": [0.2, 0.2, 0.2], \"viewport\": [0.0, 0.0, 1.0, 1.0], \"twoSidedLighting\": 1, \"lightFollowCamera\": 1, \"layer\": 0, \"preserveColorBuffer\": 0, \"preserveDepthBuffer\": 0, \"nearClippingPlaneTolerance\": 0.001, \"clippingRangeExpansion\": 0.5, \"useShadows\": 0, \"useDepthPeeling\": 0, \"occlusionRatio\": 0.0, \"maximumNumberOfPeels\": 4, \"interactive\": 1}, \"dependencies\": [{\"parent\": \"000001b4afb3e120\", \"id\": \"000001b411a53ad0\", \"type\": \"vtkOpenGLCamera\", \"properties\": {\"focalPoint\": [0.1, 0.09999999999999999, 0.2], \"position\": [0.8141757092628397, 0.8141757092628397, 0.9141757092628398], \"viewUp\": [0.0, 0.0, 1.0], \"clippingRange\": [0.7076015617757196, 1.9063615341284046]}}, {\"parent\": \"000001b4afb3e120\", \"id\": \"000001b4885198e0\", \"type\": \"vtkOpenGLActor\", \"properties\": {\"visibility\": 1, \"pickable\": 1, \"dragable\": 1, \"useBounds\": true, \"origin\": [0.0, 0.0, 0.0], \"position\": [0.0, 0.0, 0.0], \"scale\": [1.0, 1.0, 1.0], \"forceOpaque\": false, \"forceTranslucent\": false}, \"calls\": [[\"setMapper\", [\"instance:${000001b4afbbe680}\"]], [\"setProperty\", [\"instance:${000001b4afa39a40}\"]]], \"dependencies\": [{\"parent\": \"000001b4885198e0\", \"id\": \"000001b4afbbe680\", \"type\": \"vtkMapper\", \"properties\": {\"resolveCoincidentTopology\": 0, \"renderTime\": 0.0, \"arrayAccessMode\": 0, \"scalarRange\": [-13.530137152956897, -13.530137152956897], \"useLookupTableScalarRange\": 0, \"scalarVisibility\": 1, \"colorByArrayName\": -1, \"colorMode\": 1, \"scalarMode\": 1, \"interpolateScalarsBeforeMapping\": 1}, \"calls\": [[\"setInputData\", [\"instance:${000001b4afbbe680-dataset}\"]], [\"setLookupTable\", [\"instance:${000001b4c5da4660}\"]]], \"dependencies\": [{\"parent\": \"000001b4afbbe680\", \"id\": \"000001b4afbbe680-dataset\", \"type\": \"vtkPolyData\", \"properties\": {\"points\": {\"hash\": \"ba4a38084f5b42c00fdf73ca62cc81b6_30000d\", \"vtkClass\": \"vtkPoints\", \"name\": \"Points\", \"dataType\": \"Float64Array\", \"numberOfComponents\": 3, \"size\": 30000, \"ranges\": [{\"min\": 0.1, \"max\": 0.1, \"component\": null}, {\"min\": -0.15, \"max\": 0.35, \"component\": null}, {\"min\": 0.0, \"max\": 0.4, \"component\": null}, {\"min\": 0.10001147776187425, \"max\": 0.5408326913195983, \"component\": null}]}, \"verts\": {\"hash\": \"a690cc02e4059c96b40b93b29a2734ba_20000L\", \"vtkClass\": \"vtkCellArray\", \"name\": null, \"dataType\": \"Uint32Array\", \"numberOfComponents\": 1, \"size\": 20000, \"ranges\": [{\"min\": 0.0, \"max\": 9999.0, \"component\": null}]}, \"fields\": [{\"hash\": \"edf0c5bf34a02699d3c01e25ac87a5df_10000d\", \"vtkClass\": \"vtkDataArray\", \"name\": \"Sound Pressure(dB)\", \"dataType\": \"Float64Array\", \"numberOfComponents\": 1, \"size\": 10000, \"ranges\": [{\"min\": -13.530137152956897, \"max\": -13.530137152956897, \"component\": null}], \"location\": \"pointData\", \"registration\": \"setScalars\"}]}}, {\"parent\": \"000001b4afbbe680\", \"id\": \"000001b4c5da4660\", \"type\": \"vtkLookupTable\", \"properties\": {\"numberOfColors\": 256, \"valueRange\": [-13.530137152956897, -13.530137152956897], \"hueRange\": [0.5, 0], \"saturationRange\": [1.0, 1.0], \"nanColor\": [0.6627450980392157, 0.6627450980392157, 0.6627450980392157, 1.0], \"belowRangeColor\": [0.0, 0.0, 0.0, 1.0], \"aboveRangeColor\": [1.0, 1.0, 1.0, 1.0], \"useAboveRangeColor\": false, \"useBelowRangeColor\": false, \"alpha\": 1.0, \"vectorSize\": -1, \"vectorComponent\": 0, \"vectorMode\": 1, \"indexedLookup\": 0, \"table\": [[127, 0, 255, 255], [125, 3, 254, 255], [123, 6, 254, 255], [121, 9, 254, 255], [119, 12, 254, 255], [117, 15, 254, 255], [115, 18, 254, 255], [113, 21, 254, 255], [111, 25, 254, 255], [109, 28, 254, 255], [107, 31, 254, 255], [105, 34, 254, 255], [103, 37, 254, 255], [101, 40, 254, 255], [99, 43, 254, 255], [97, 46, 253, 255], [95, 49, 253, 255], [93, 53, 253, 255], [91, 56, 253, 255], [89, 59, 253, 255], [87, 62, 253, 255], [85, 65, 252, 255], [83, 68, 252, 255], [81, 71, 252, 255], [79, 74, 252, 255], [77, 77, 251, 255], [75, 80, 251, 255], [73, 83, 251, 255], [71, 86, 251, 255], [69, 89, 250, 255], [67, 92, 250, 255], [65, 95, 250, 255], [63, 97, 250, 255], [61, 100, 249, 255], [59, 103, 249, 255], [57, 106, 249, 255], [55, 109, 248, 255], [53, 112, 248, 255], [51, 115, 248, 255], [49, 117, 247, 255], [47, 120, 247, 255], [45, 123, 246, 255], [43, 126, 246, 255], [41, 128, 246, 255], [39, 131, 245, 255], [37, 134, 245, 255], [35, 136, 244, 255], [33, 139, 244, 255], [31, 142, 243, 255], [29, 144, 243, 255], [27, 147, 243, 255], [25, 149, 242, 255], [23, 152, 242, 255], [21, 154, 241, 255], [19, 157, 241, 255], [17, 159, 240, 255], [15, 162, 239, 255], [13, 164, 239, 255], [11, 167, 238, 255], [9, 169, 238, 255], [7, 171, 237, 255], [5, 174, 237, 255], [3, 176, 236, 255], [1, 178, 236, 255], [0, 180, 235, 255], [2, 183, 234, 255], [4, 185, 234, 255], [6, 187, 233, 255], [8, 189, 232, 255], [10, 191, 232, 255], [12, 193, 231, 255], [14, 195, 230, 255], [16, 197, 230, 255], [18, 199, 229, 255], [20, 201, 228, 255], [22, 203, 228, 255], [24, 205, 227, 255], [26, 207, 226, 255], [28, 209, 226, 255], [30, 210, 225, 255], [32, 212, 224, 255], [34, 214, 223, 255], [36, 215, 223, 255], [38, 217, 222, 255], [40, 219, 221, 255], [42, 220, 220, 255], [44, 222, 220, 255], [46, 223, 219, 255], [48, 225, 218, 255], [50, 226, 217, 255], [52, 228, 216, 255], [54, 229, 215, 255], [56, 230, 215, 255], [58, 232, 214, 255], [60, 233, 213, 255], [62, 234, 212, 255], [64, 236, 211, 255], [66, 237, 210, 255], [68, 238, 209, 255], [70, 239, 209, 255], [72, 240, 208, 255], [74, 241, 207, 255], [76, 242, 206, 255], [78, 243, 205, 255], [80, 244, 204, 255], [82, 245, 203, 255], [84, 246, 202, 255], [86, 246, 201, 255], [88, 247, 200, 255], [90, 248, 199, 255], [92, 249, 198, 255], [94, 249, 197, 255], [96, 250, 196, 255], [98, 250, 195, 255], [100, 251, 194, 255], [102, 251, 193, 255], [104, 252, 192, 255], [106, 252, 191, 255], [108, 253, 190, 255], [110, 253, 189, 255], [112, 253, 188, 255], [114, 254, 187, 255], [116, 254, 186, 255], [118, 254, 185, 255], [120, 254, 184, 255], [122, 254, 183, 255], [124, 254, 181, 255], [126, 254, 180, 255], [128, 254, 179, 255], [130, 254, 178, 255], [132, 254, 177, 255], [134, 254, 176, 255], [136, 254, 175, 255], [138, 254, 174, 255], [140, 254, 172, 255], [142, 253, 171, 255], [144, 253, 170, 255], [146, 253, 169, 255], [148, 252, 168, 255], [150, 252, 167, 255], [152, 251, 165, 255], [154, 251, 164, 255], [156, 250, 163, 255], [158, 250, 162, 255], [160, 249, 161, 255], [162, 249, 159, 255], [164, 248, 158, 255], [166, 247, 157, 255], [168, 246, 156, 255], [170, 246, 154, 255], [172, 245, 153, 255], [174, 244, 152, 255], [176, 243, 151, 255], [178, 242, 149, 255], [180, 241, 148, 255], [182, 240, 147, 255], [184, 239, 146, 255], [186, 238, 144, 255], [188, 237, 143, 255], [190, 236, 142, 255], [192, 234, 140, 255], [194, 233, 139, 255], [196, 232, 138, 255], [198, 230, 136, 255], [200, 229, 135, 255], [202, 228, 134, 255], [204, 226, 132, 255], [206, 225, 131, 255], [208, 223, 130, 255], [210, 222, 128, 255], [212, 220, 127, 255], [214, 219, 126, 255], [216, 217, 124, 255], [218, 215, 123, 255], [220, 214, 122, 255], [222, 212, 120, 255], [224, 210, 119, 255], [226, 209, 117, 255], [228, 207, 116, 255], [230, 205, 115, 255], [232, 203, 113, 255], [234, 201, 112, 255], [236, 199, 110, 255], [238, 197, 109, 255], [240, 195, 108, 255], [242, 193, 106, 255], [244, 191, 105, 255], [246, 189, 103, 255], [248, 187, 102, 255], [250, 185, 100, 255], [252, 183, 99, 255], [254, 180, 97, 255], [255, 178, 96, 255], [255, 176, 95, 255], [255, 174, 93, 255], [255, 171, 92, 255], [255, 169, 90, 255], [255, 167, 89, 255], [255, 164, 87, 255], [255, 162, 86, 255], [255, 159, 84, 255], [255, 157, 83, 255], [255, 154, 81, 255], [255, 152, 80, 255], [255, 149, 78, 255], [255, 147, 77, 255], [255, 144, 75, 255], [255, 142, 74, 255], [255, 139, 72, 255], [255, 136, 71, 255], [255, 134, 69, 255], [255, 131, 68, 255], [255, 128, 66, 255], [255, 126, 65, 255], [255, 123, 63, 255], [255, 120, 62, 255], [255, 117, 60, 255], [255, 115, 59, 255], [255, 112, 57, 255], [255, 109, 56, 255], [255, 106, 54, 255], [255, 103, 53, 255], [255, 100, 51, 255], [255, 97, 49, 255], [255, 95, 48, 255], [255, 92, 46, 255], [255, 89, 45, 255], [255, 86, 43, 255], [255, 83, 42, 255], [255, 80, 40, 255], [255, 77, 39, 255], [255, 74, 37, 255], [255, 71, 36, 255], [255, 68, 34, 255], [255, 65, 32, 255], [255, 62, 31, 255], [255, 59, 29, 255], [255, 56, 28, 255], [255, 53, 26, 255], [255, 49, 25, 255], [255, 46, 23, 255], [255, 43, 21, 255], [255, 40, 20, 255], [255, 37, 18, 255], [255, 34, 17, 255], [255, 31, 15, 255], [255, 28, 14, 255], [255, 25, 12, 255], [255, 21, 10, 255], [255, 18, 9, 255], [255, 15, 7, 255], [255, 12, 6, 255], [255, 9, 4, 255], [255, 6, 3, 255], [255, 3, 1, 255], [255, 0, 0, 255]]}}]}, {\"parent\": \"000001b4885198e0\", \"id\": \"000001b4afa39a40\", \"type\": \"vtkOpenGLProperty\", \"properties\": {\"representation\": 2, \"diffuseColor\": [0.6784313725490196, 0.8470588235294118, 0.9019607843137255], \"color\": [0.6784313725490196, 0.8470588235294118, 0.9019607843137255], \"ambientColor\": [0.6784313725490196, 0.8470588235294118, 0.9019607843137255], \"specularColor\": [0.6784313725490196, 0.8470588235294118, 0.9019607843137255], \"edgeColor\": [0.0, 0.0, 0.0], \"ambient\": 0.0, \"diffuse\": 1.0, \"specular\": 0.0, \"specularPower\": 100.0, \"opacity\": 1.0, \"interpolation\": 0, \"edgeVisibility\": 0, \"backfaceCulling\": 0, \"frontfaceCulling\": 0, \"pointSize\": 6.0, \"lineWidth\": 1.0, \"lighting\": 1}}]}, {\"parent\": \"000001b4afb3e120\", \"id\": \"000001b4274b6d90\", \"type\": \"vtkScalarBarActor\", \"properties\": {\"visibility\": 1, \"pickable\": 0, \"dragable\": 1, \"useBounds\": true, \"automated\": true, \"axisLabel\": \"Sound Pressure(dB)\", \"boxPosition\": [0.88, -0.92], \"boxSize\": [0.6, 0.08], \"axisTitlePixelOffset\": 36.0, \"axisTextStyle\": {\"fontColor\": \"#000000\", \"fontStyle\": \"normal\", \"fontSize\": 18, \"fontFamily\": \"serif\"}, \"tickLabelPixelOffset\": 14.0, \"tickTextStyle\": {\"fontColor\": \"#000000\", \"fontStyle\": \"normal\", \"fontSize\": 14, \"fontFamily\": \"serif\"}, \"drawNanAnnotation\": 0, \"drawBelowRangeSwatch\": false, \"drawAboveRangeSwatch\": false}, \"calls\": [[\"setScalarsToColors\", [\"instance:${000001b4c5da4660}\"]]], \"dependencies\": [{\"parent\": \"000001b4274b6d90\", \"id\": \"000001b4c5da4660\", \"type\": \"vtkLookupTable\", \"properties\": {}}]}, {\"parent\": \"000001b4afb3e120\", \"id\": \"000001b426aaef50\", \"type\": \"vtkOpenGLLight\", \"properties\": {\"switch\": 1, \"intensity\": 0.25, \"color\": [1.0, 1.0, 1.0], \"position\": [0.0, 0.0, 1.0], \"focalPoint\": [0.0, 0.0, 0.0], \"positional\": 0, \"exponent\": 1.0, \"coneAngle\": 30.0, \"attenuationValues\": [1.0, 0.0, 0.0], \"lightType\": \"HeadLight\", \"shadowAttenuation\": 1.0}}, {\"parent\": \"000001b4afb3e120\", \"id\": \"000001b426aaf0b0\", \"type\": \"vtkOpenGLLight\", \"properties\": {\"switch\": 1, \"intensity\": 0.75, \"color\": [1.0, 0.9725490196078431, 0.9019607843137255], \"position\": [0.11161889704894966, 0.766044443118978, 0.6330222215594891], \"focalPoint\": [0.0, 0.0, 0.0], \"positional\": 0, \"exponent\": 1.0, \"coneAngle\": 30.0, \"attenuationValues\": [1.0, 0.0, 0.0], \"lightType\": \"CameraLight\", \"shadowAttenuation\": 1.0}}, {\"parent\": \"000001b4afb3e120\", \"id\": \"000001b4a88c6310\", \"type\": \"vtkOpenGLLight\", \"properties\": {\"switch\": 1, \"intensity\": 0.25, \"color\": [0.9098039215686274, 0.9333333333333333, 1.0], \"position\": [-0.044943455527547777, -0.9659258262890683, 0.25488700224417876], \"focalPoint\": [0.0, 0.0, 0.0], \"positional\": 0, \"exponent\": 1.0, \"coneAngle\": 30.0, \"attenuationValues\": [1.0, 0.0, 0.0], \"lightType\": \"CameraLight\", \"shadowAttenuation\": 1.0}}, {\"parent\": \"000001b4afb3e120\", \"id\": \"000001b4a88c69f0\", \"type\": \"vtkOpenGLLight\", \"properties\": {\"switch\": 1, \"intensity\": 0.21428571428571427, \"color\": [1.0, 1.0, 1.0], \"position\": [0.9396926207859084, 0.0, -0.3420201433256687], \"focalPoint\": [0.0, 0.0, 0.0], \"positional\": 0, \"exponent\": 1.0, \"coneAngle\": 30.0, \"attenuationValues\": [1.0, 0.0, 0.0], \"lightType\": \"CameraLight\", \"shadowAttenuation\": 1.0}}, {\"parent\": \"000001b4afb3e120\", \"id\": \"000001b4a88c65d0\", \"type\": \"vtkOpenGLLight\", \"properties\": {\"switch\": 1, \"intensity\": 0.21428571428571427, \"color\": [1.0, 1.0, 1.0], \"position\": [-0.9396926207859084, 0.0, -0.3420201433256687], \"focalPoint\": [0.0, 0.0, 0.0], \"positional\": 0, \"exponent\": 1.0, \"coneAngle\": 30.0, \"attenuationValues\": [1.0, 0.0, 0.0], \"lightType\": \"CameraLight\", \"shadowAttenuation\": 1.0}}], \"calls\": [[\"setActiveCamera\", [\"instance:${000001b411a53ad0}\"]], [\"addViewProp\", [\"instance:${000001b4885198e0}\"]], [\"addViewProp\", [\"instance:${000001b4274b6d90}\"]], [\"addLight\", [\"instance:${000001b426aaef50}\"]], [\"addLight\", [\"instance:${000001b426aaf0b0}\"]], [\"addLight\", [\"instance:${000001b4a88c6310}\"]], [\"addLight\", [\"instance:${000001b4a88c69f0}\"]], [\"addLight\", [\"instance:${000001b4a88c65d0}\"]]]}], \"calls\": [[\"addRenderer\", [\"instance:${000001b4afb3e120}\"]]], \"mtime\": 1027351, \"extra\": {\"vtkRefId\": \"000001b43d744c50\", \"centerOfRotation\": [0.1, 0.09999999999999999, 0.2], \"camera\": \"000001b411a53ad0\"}}}{\"wslink\": \"1.0\", \"id\": \"publish:trame.vtk.delta:0\", \"result\": {\"parent\": \"0x0\", \"id\": 22, \"type\": \"vtkWin32OpenGLRenderWindow\", \"properties\": {\"numberOfLayers\": 2}, \"dependencies\": [{\"parent\": \"000001b43d744c50\", \"id\": \"000001b4afb3e120\", \"type\": \"vtkOpenGLRenderer\", \"properties\": {\"background\": [1.0, 1.0, 1.0], \"background2\": [0.2, 0.2, 0.2], \"viewport\": [0.0, 0.0, 1.0, 1.0], \"twoSidedLighting\": 1, \"lightFollowCamera\": 1, \"layer\": 0, \"preserveColorBuffer\": 0, \"preserveDepthBuffer\": 0, \"nearClippingPlaneTolerance\": 0.001, \"clippingRangeExpansion\": 0.5, \"useShadows\": 0, \"useDepthPeeling\": 0, \"occlusionRatio\": 0.0, \"maximumNumberOfPeels\": 4, \"interactive\": 1}, \"dependencies\": [{\"parent\": \"000001b4afb3e120\", \"id\": \"000001b411a53ad0\", \"type\": \"vtkOpenGLCamera\", \"properties\": {\"focalPoint\": [0.1, 0.09999999999999999, 0.2], \"position\": [0.8141757092628397, 0.8141757092628397, 0.9141757092628398], \"viewUp\": [0.0, 0.0, 1.0], \"clippingRange\": [0.7076015617757196, 1.9063615341284046]}}, {\"parent\": \"000001b4afb3e120\", \"id\": \"000001b4885198e0\", \"type\": \"vtkOpenGLActor\", \"properties\": {}, \"calls\": [[\"setMapper\", [\"instance:${000001b4afbbe680}\"]], [\"setProperty\", [\"instance:${000001b4afa39a40}\"]]], \"dependencies\": [{\"parent\": \"000001b4885198e0\", \"id\": \"000001b4afbbe680\", \"type\": \"vtkMapper\", \"properties\": {}, \"calls\": [[\"setInputData\", [\"instance:${000001b4afbbe680-dataset}\"]], [\"setLookupTable\", [\"instance:${000001b4c5da4660}\"]]], \"dependencies\": [{\"parent\": \"000001b4afbbe680\", \"id\": \"000001b4afbbe680-dataset\", \"type\": \"vtkPolyData\", \"properties\": {\"points\": {\"hash\": \"ba4a38084f5b42c00fdf73ca62cc81b6_30000d\", \"vtkClass\": \"vtkPoints\", \"name\": \"Points\", \"dataType\": \"Float64Array\", \"numberOfComponents\": 3, \"size\": 30000, \"ranges\": [{\"min\": 0.1, \"max\": 0.1, \"component\": null}, {\"min\": -0.15, \"max\": 0.35, \"component\": null}, {\"min\": 0.0, \"max\": 0.4, \"component\": null}, {\"min\": 0.10001147776187425, \"max\": 0.5408326913195983, \"component\": null}]}, \"verts\": {\"hash\": \"a690cc02e4059c96b40b93b29a2734ba_20000L\", \"vtkClass\": \"vtkCellArray\", \"name\": null, \"dataType\": \"Uint32Array\", \"numberOfComponents\": 1, \"size\": 20000, \"ranges\": [{\"min\": 0.0, \"max\": 9999.0, \"component\": null}]}, \"fields\": [{\"hash\": \"edf0c5bf34a02699d3c01e25ac87a5df_10000d\", \"vtkClass\": \"vtkDataArray\", \"name\": \"Sound Pressure(dB)\", \"dataType\": \"Float64Array\", \"numberOfComponents\": 1, \"size\": 10000, \"ranges\": [{\"min\": -13.530137152956897, \"max\": -13.530137152956897, \"component\": null}], \"location\": \"pointData\", \"registration\": \"setScalars\"}]}}, {\"parent\": \"000001b4afbbe680\", \"id\": \"000001b4c5da4660\", \"type\": \"vtkLookupTable\", \"properties\": {}}]}, {\"parent\": \"000001b4885198e0\", \"id\": \"000001b4afa39a40\", \"type\": \"vtkOpenGLProperty\", \"properties\": {}}]}, {\"parent\": \"000001b4afb3e120\", \"id\": \"000001b4274b6d90\", \"type\": \"vtkScalarBarActor\", \"properties\": {}, \"calls\": [[\"setScalarsToColors\", [\"instance:${000001b4c5da4660}\"]]], \"dependencies\": [{\"parent\": \"000001b4274b6d90\", \"id\": \"000001b4c5da4660\", \"type\": \"vtkLookupTable\", \"properties\": {}}]}, {\"parent\": \"000001b4afb3e120\", \"id\": \"000001b426aaef50\", \"type\": \"vtkOpenGLLight\", \"properties\": {\"position\": [0.8141757092628397, 0.8141757092628397, 0.9141757092628398], \"focalPoint\": [0.1, 0.09999999999999999, 0.2]}}, {\"parent\": \"000001b4afb3e120\", \"id\": \"000001b426aaf0b0\", \"type\": \"vtkOpenGLLight\", \"properties\": {}}, {\"parent\": \"000001b4afb3e120\", \"id\": \"000001b4a88c6310\", \"type\": \"vtkOpenGLLight\", \"properties\": {}}, {\"parent\": \"000001b4afb3e120\", \"id\": \"000001b4a88c69f0\", \"type\": \"vtkOpenGLLight\", \"properties\": {}}, {\"parent\": \"000001b4afb3e120\", \"id\": \"000001b4a88c65d0\", \"type\": \"vtkOpenGLLight\", \"properties\": {}}], \"calls\": [[\"setActiveCamera\", [\"instance:${000001b411a53ad0}\"]]]}], \"calls\": [], \"mtime\": 1029989, \"extra\": {\"vtkRefId\": \"000001b43d744c50\", \"centerOfRotation\": [0.1, 0.09999999999999999, 0.2], \"camera\": \"000001b411a53ad0\"}}}\n",
      " JS Error => Malformed message:  {\"wslink\": \"1.0\", \"id\": \"publish:trame.vtk.delta:0\", \"result\": {\"parent\": \"0x0\", \"id\": 22, \"type\": \"vtkWin32OpenGLRenderWindow\", \"properties\": {\"numberOfLayers\": 2}, \"dependencies\": [{\"parent\": \"000001b43d744c50\", \"id\": \"000001b4afb3e120\", \"type\": \"vtkOpenGLRenderer\", \"properties\": {\"background\": [1.0, 1.0, 1.0], \"background2\": [0.2, 0.2, 0.2], \"viewport\": [0.0, 0.0, 1.0, 1.0], \"twoSidedLighting\": 1, \"lightFollowCamera\": 1, \"layer\": 0, \"preserveColorBuffer\": 0, \"preserveDepthBuffer\": 0, \"nearClippingPlaneTolerance\": 0.001, \"clippingRangeExpansion\": 0.5, \"useShadows\": 0, \"useDepthPeeling\": 0, \"occlusionRatio\": 0.0, \"maximumNumberOfPeels\": 4, \"interactive\": 1}, \"dependencies\": [{\"parent\": \"000001b4afb3e120\", \"id\": \"000001b411a53ad0\", \"type\": \"vtkOpenGLCamera\", \"properties\": {\"focalPoint\": [0.1, 0.09999999999999999, 0.2], \"position\": [0.8141757092628397, 0.8141757092628397, 0.9141757092628398], \"viewUp\": [0.0, 0.0, 1.0], \"clippingRange\": [0.7076015617757196, 1.9063615341284046]}}, {\"parent\": \"000001b4afb3e120\", \"id\": \"000001b4885198e0\", \"type\": \"vtkOpenGLActor\", \"properties\": {\"visibility\": 1, \"pickable\": 1, \"dragable\": 1, \"useBounds\": true, \"origin\": [0.0, 0.0, 0.0], \"position\": [0.0, 0.0, 0.0], \"scale\": [1.0, 1.0, 1.0], \"forceOpaque\": false, \"forceTranslucent\": false}, \"calls\": [[\"setMapper\", [\"instance:${000001b4afbbe680}\"]], [\"setProperty\", [\"instance:${000001b4afa39a40}\"]]], \"dependencies\": [{\"parent\": \"000001b4885198e0\", \"id\": \"000001b4afbbe680\", \"type\": \"vtkMapper\", \"properties\": {\"resolveCoincidentTopology\": 0, \"renderTime\": 0.0, \"arrayAccessMode\": 0, \"scalarRange\": [-13.530137152956897, -13.530137152956897], \"useLookupTableScalarRange\": 0, \"scalarVisibility\": 1, \"colorByArrayName\": -1, \"colorMode\": 1, \"scalarMode\": 1, \"interpolateScalarsBeforeMapping\": 1}, \"calls\": [[\"setInputData\", [\"instance:${000001b4afbbe680-dataset}\"]], [\"setLookupTable\", [\"instance:${000001b4c5da4660}\"]]], \"dependencies\": [{\"parent\": \"000001b4afbbe680\", \"id\": \"000001b4afbbe680-dataset\", \"type\": \"vtkPolyData\", \"properties\": {\"points\": {\"hash\": \"ba4a38084f5b42c00fdf73ca62cc81b6_30000d\", \"vtkClass\": \"vtkPoints\", \"name\": \"Points\", \"dataType\": \"Float64Array\", \"numberOfComponents\": 3, \"size\": 30000, \"ranges\": [{\"min\": 0.1, \"max\": 0.1, \"component\": null}, {\"min\": -0.15, \"max\": 0.35, \"component\": null}, {\"min\": 0.0, \"max\": 0.4, \"component\": null}, {\"min\": 0.10001147776187425, \"max\": 0.5408326913195983, \"component\": null}]}, \"verts\": {\"hash\": \"a690cc02e4059c96b40b93b29a2734ba_20000L\", \"vtkClass\": \"vtkCellArray\", \"name\": null, \"dataType\": \"Uint32Array\", \"numberOfComponents\": 1, \"size\": 20000, \"ranges\": [{\"min\": 0.0, \"max\": 9999.0, \"component\": null}]}, \"fields\": [{\"hash\": \"edf0c5bf34a02699d3c01e25ac87a5df_10000d\", \"vtkClass\": \"vtkDataArray\", \"name\": \"Sound Pressure(dB)\", \"dataType\": \"Float64Array\", \"numberOfComponents\": 1, \"size\": 10000, \"ranges\": [{\"min\": -13.530137152956897, \"max\": -13.530137152956897, \"component\": null}], \"location\": \"pointData\", \"registration\": \"setScalars\"}]}}, {\"parent\": \"000001b4afbbe680\", \"id\": \"000001b4c5da4660\", \"type\": \"vtkLookupTable\", \"properties\": {\"numberOfColors\": 256, \"valueRange\": [-13.530137152956897, -13.530137152956897], \"hueRange\": [0.5, 0], \"saturationRange\": [1.0, 1.0], \"nanColor\": [0.6627450980392157, 0.6627450980392157, 0.6627450980392157, 1.0], \"belowRangeColor\": [0.0, 0.0, 0.0, 1.0], \"aboveRangeColor\": [1.0, 1.0, 1.0, 1.0], \"useAboveRangeColor\": false, \"useBelowRangeColor\": false, \"alpha\": 1.0, \"vectorSize\": -1, \"vectorComponent\": 0, \"vectorMode\": 1, \"indexedLookup\": 0, \"table\": [[127, 0, 255, 255], [125, 3, 254, 255], [123, 6, 254, 255], [121, 9, 254, 255], [119, 12, 254, 255], [117, 15, 254, 255], [115, 18, 254, 255], [113, 21, 254, 255], [111, 25, 254, 255], [109, 28, 254, 255], [107, 31, 254, 255], [105, 34, 254, 255], [103, 37, 254, 255], [101, 40, 254, 255], [99, 43, 254, 255], [97, 46, 253, 255], [95, 49, 253, 255], [93, 53, 253, 255], [91, 56, 253, 255], [89, 59, 253, 255], [87, 62, 253, 255], [85, 65, 252, 255], [83, 68, 252, 255], [81, 71, 252, 255], [79, 74, 252, 255], [77, 77, 251, 255], [75, 80, 251, 255], [73, 83, 251, 255], [71, 86, 251, 255], [69, 89, 250, 255], [67, 92, 250, 255], [65, 95, 250, 255], [63, 97, 250, 255], [61, 100, 249, 255], [59, 103, 249, 255], [57, 106, 249, 255], [55, 109, 248, 255], [53, 112, 248, 255], [51, 115, 248, 255], [49, 117, 247, 255], [47, 120, 247, 255], [45, 123, 246, 255], [43, 126, 246, 255], [41, 128, 246, 255], [39, 131, 245, 255], [37, 134, 245, 255], [35, 136, 244, 255], [33, 139, 244, 255], [31, 142, 243, 255], [29, 144, 243, 255], [27, 147, 243, 255], [25, 149, 242, 255], [23, 152, 242, 255], [21, 154, 241, 255], [19, 157, 241, 255], [17, 159, 240, 255], [15, 162, 239, 255], [13, 164, 239, 255], [11, 167, 238, 255], [9, 169, 238, 255], [7, 171, 237, 255], [5, 174, 237, 255], [3, 176, 236, 255], [1, 178, 236, 255], [0, 180, 235, 255], [2, 183, 234, 255], [4, 185, 234, 255], [6, 187, 233, 255], [8, 189, 232, 255], [10, 191, 232, 255], [12, 193, 231, 255], [14, 195, 230, 255], [16, 197, 230, 255], [18, 199, 229, 255], [20, 201, 228, 255], [22, 203, 228, 255], [24, 205, 227, 255], [26, 207, 226, 255], [28, 209, 226, 255], [30, 210, 225, 255], [32, 212, 224, 255], [34, 214, 223, 255], [36, 215, 223, 255], [38, 217, 222, 255], [40, 219, 221, 255], [42, 220, 220, 255], [44, 222, 220, 255], [46, 223, 219, 255], [48, 225, 218, 255], [50, 226, 217, 255], [52, 228, 216, 255], [54, 229, 215, 255], [56, 230, 215, 255], [58, 232, 214, 255], [60, 233, 213, 255], [62, 234, 212, 255], [64, 236, 211, 255], [66, 237, 210, 255], [68, 238, 209, 255], [70, 239, 209, 255], [72, 240, 208, 255], [74, 241, 207, 255], [76, 242, 206, 255], [78, 243, 205, 255], [80, 244, 204, 255], [82, 245, 203, 255], [84, 246, 202, 255], [86, 246, 201, 255], [88, 247, 200, 255], [90, 248, 199, 255], [92, 249, 198, 255], [94, 249, 197, 255], [96, 250, 196, 255], [98, 250, 195, 255], [100, 251, 194, 255], [102, 251, 193, 255], [104, 252, 192, 255], [106, 252, 191, 255], [108, 253, 190, 255], [110, 253, 189, 255], [112, 253, 188, 255], [114, 254, 187, 255], [116, 254, 186, 255], [118, 254, 185, 255], [120, 254, 184, 255], [122, 254, 183, 255], [124, 254, 181, 255], [126, 254, 180, 255], [128, 254, 179, 255], [130, 254, 178, 255], [132, 254, 177, 255], [134, 254, 176, 255], [136, 254, 175, 255], [138, 254, 174, 255], [140, 254, 172, 255], [142, 253, 171, 255], [144, 253, 170, 255], [146, 253, 169, 255], [148, 252, 168, 255], [150, 252, 167, 255], [152, 251, 165, 255], [154, 251, 164, 255], [156, 250, 163, 255], [158, 250, 162, 255], [160, 249, 161, 255], [162, 249, 159, 255], [164, 248, 158, 255], [166, 247, 157, 255], [168, 246, 156, 255], [170, 246, 154, 255], [172, 245, 153, 255], [174, 244, 152, 255], [176, 243, 151, 255], [178, 242, 149, 255], [180, 241, 148, 255], [182, 240, 147, 255], [184, 239, 146, 255], [186, 238, 144, 255], [188, 237, 143, 255], [190, 236, 142, 255], [192, 234, 140, 255], [194, 233, 139, 255], [196, 232, 138, 255], [198, 230, 136, 255], [200, 229, 135, 255], [202, 228, 134, 255], [204, 226, 132, 255], [206, 225, 131, 255], [208, 223, 130, 255], [210, 222, 128, 255], [212, 220, 127, 255], [214, 219, 126, 255], [216, 217, 124, 255], [218, 215, 123, 255], [220, 214, 122, 255], [222, 212, 120, 255], [224, 210, 119, 255], [226, 209, 117, 255], [228, 207, 116, 255], [230, 205, 115, 255], [232, 203, 113, 255], [234, 201, 112, 255], [236, 199, 110, 255], [238, 197, 109, 255], [240, 195, 108, 255], [242, 193, 106, 255], [244, 191, 105, 255], [246, 189, 103, 255], [248, 187, 102, 255], [250, 185, 100, 255], [252, 183, 99, 255], [254, 180, 97, 255], [255, 178, 96, 255], [255, 176, 95, 255], [255, 174, 93, 255], [255, 171, 92, 255], [255, 169, 90, 255], [255, 167, 89, 255], [255, 164, 87, 255], [255, 162, 86, 255], [255, 159, 84, 255], [255, 157, 83, 255], [255, 154, 81, 255], [255, 152, 80, 255], [255, 149, 78, 255], [255, 147, 77, 255], [255, 144, 75, 255], [255, 142, 74, 255], [255, 139, 72, 255], [255, 136, 71, 255], [255, 134, 69, 255], [255, 131, 68, 255], [255, 128, 66, 255], [255, 126, 65, 255], [255, 123, 63, 255], [255, 120, 62, 255], [255, 117, 60, 255], [255, 115, 59, 255], [255, 112, 57, 255], [255, 109, 56, 255], [255, 106, 54, 255], [255, 103, 53, 255], [255, 100, 51, 255], [255, 97, 49, 255], [255, 95, 48, 255], [255, 92, 46, 255], [255, 89, 45, 255], [255, 86, 43, 255], [255, 83, 42, 255], [255, 80, 40, 255], [255, 77, 39, 255], [255, 74, 37, 255], [255, 71, 36, 255], [255, 68, 34, 255], [255, 65, 32, 255], [255, 62, 31, 255], [255, 59, 29, 255], [255, 56, 28, 255], [255, 53, 26, 255], [255, 49, 25, 255], [255, 46, 23, 255], [255, 43, 21, 255], [255, 40, 20, 255], [255, 37, 18, 255], [255, 34, 17, 255], [255, 31, 15, 255], [255, 28, 14, 255], [255, 25, 12, 255], [255, 21, 10, 255], [255, 18, 9, 255], [255, 15, 7, 255], [255, 12, 6, 255], [255, 9, 4, 255], [255, 6, 3, 255], [255, 3, 1, 255], [255, 0, 0, 255]]}}]}, {\"parent\": \"000001b4885198e0\", \"id\": \"000001b4afa39a40\", \"type\": \"vtkOpenGLProperty\", \"properties\": {\"representation\": 2, \"diffuseColor\": [0.6784313725490196, 0.8470588235294118, 0.9019607843137255], \"color\": [0.6784313725490196, 0.8470588235294118, 0.9019607843137255], \"ambientColor\": [0.6784313725490196, 0.8470588235294118, 0.9019607843137255], \"specularColor\": [0.6784313725490196, 0.8470588235294118, 0.9019607843137255], \"edgeColor\": [0.0, 0.0, 0.0], \"ambient\": 0.0, \"diffuse\": 1.0, \"specular\": 0.0, \"specularPower\": 100.0, \"opacity\": 1.0, \"interpolation\": 0, \"edgeVisibility\": 0, \"backfaceCulling\": 0, \"frontfaceCulling\": 0, \"pointSize\": 6.0, \"lineWidth\": 1.0, \"lighting\": 1}}]}, {\"parent\": \"000001b4afb3e120\", \"id\": \"000001b4274b6d90\", \"type\": \"vtkScalarBarActor\", \"properties\": {\"visibility\": 1, \"pickable\": 0, \"dragable\": 1, \"useBounds\": true, \"automated\": true, \"axisLabel\": \"Sound Pressure(dB)\", \"boxPosition\": [0.88, -0.92], \"boxSize\": [0.6, 0.08], \"axisTitlePixelOffset\": 36.0, \"axisTextStyle\": {\"fontColor\": \"#000000\", \"fontStyle\": \"normal\", \"fontSize\": 18, \"fontFamily\": \"serif\"}, \"tickLabelPixelOffset\": 14.0, \"tickTextStyle\": {\"fontColor\": \"#000000\", \"fontStyle\": \"normal\", \"fontSize\": 14, \"fontFamily\": \"serif\"}, \"drawNanAnnotation\": 0, \"drawBelowRangeSwatch\": false, \"drawAboveRangeSwatch\": false}, \"calls\": [[\"setScalarsToColors\", [\"instance:${000001b4c5da4660}\"]]], \"dependencies\": [{\"parent\": \"000001b4274b6d90\", \"id\": \"000001b4c5da4660\", \"type\": \"vtkLookupTable\", \"properties\": {}}]}, {\"parent\": \"000001b4afb3e120\", \"id\": \"000001b426aaef50\", \"type\": \"vtkOpenGLLight\", \"properties\": {\"switch\": 1, \"intensity\": 0.25, \"color\": [1.0, 1.0, 1.0], \"position\": [0.0, 0.0, 1.0], \"focalPoint\": [0.0, 0.0, 0.0], \"positional\": 0, \"exponent\": 1.0, \"coneAngle\": 30.0, \"attenuationValues\": [1.0, 0.0, 0.0], \"lightType\": \"HeadLight\", \"shadowAttenuation\": 1.0}}, {\"parent\": \"000001b4afb3e120\", \"id\": \"000001b426aaf0b0\", \"type\": \"vtkOpenGLLight\", \"properties\": {\"switch\": 1, \"intensity\": 0.75, \"color\": [1.0, 0.9725490196078431, 0.9019607843137255], \"position\": [0.11161889704894966, 0.766044443118978, 0.6330222215594891], \"focalPoint\": [0.0, 0.0, 0.0], \"positional\": 0, \"exponent\": 1.0, \"coneAngle\": 30.0, \"attenuationValues\": [1.0, 0.0, 0.0], \"lightType\": \"CameraLight\", \"shadowAttenuation\": 1.0}}, {\"parent\": \"000001b4afb3e120\", \"id\": \"000001b4a88c6310\", \"type\": \"vtkOpenGLLight\", \"properties\": {\"switch\": 1, \"intensity\": 0.25, \"color\": [0.9098039215686274, 0.9333333333333333, 1.0], \"position\": [-0.044943455527547777, -0.9659258262890683, 0.25488700224417876], \"focalPoint\": [0.0, 0.0, 0.0], \"positional\": 0, \"exponent\": 1.0, \"coneAngle\": 30.0, \"attenuationValues\": [1.0, 0.0, 0.0], \"lightType\": \"CameraLight\", \"shadowAttenuation\": 1.0}}, {\"parent\": \"000001b4afb3e120\", \"id\": \"000001b4a88c69f0\", \"type\": \"vtkOpenGLLight\", \"properties\": {\"switch\": 1, \"intensity\": 0.21428571428571427, \"color\": [1.0, 1.0, 1.0], \"position\": [0.9396926207859084, 0.0, -0.3420201433256687], \"focalPoint\": [0.0, 0.0, 0.0], \"positional\": 0, \"exponent\": 1.0, \"coneAngle\": 30.0, \"attenuationValues\": [1.0, 0.0, 0.0], \"lightType\": \"CameraLight\", \"shadowAttenuation\": 1.0}}, {\"parent\": \"000001b4afb3e120\", \"id\": \"000001b4a88c65d0\", \"type\": \"vtkOpenGLLight\", \"properties\": {\"switch\": 1, \"intensity\": 0.21428571428571427, \"color\": [1.0, 1.0, 1.0], \"position\": [-0.9396926207859084, 0.0, -0.3420201433256687], \"focalPoint\": [0.0, 0.0, 0.0], \"positional\": 0, \"exponent\": 1.0, \"coneAngle\": 30.0, \"attenuationValues\": [1.0, 0.0, 0.0], \"lightType\": \"CameraLight\", \"shadowAttenuation\": 1.0}}], \"calls\": [[\"setActiveCamera\", [\"instance:${000001b411a53ad0}\"]], [\"addViewProp\", [\"instance:${000001b4885198e0}\"]], [\"addViewProp\", [\"instance:${000001b4274b6d90}\"]], [\"addLight\", [\"instance:${000001b426aaef50}\"]], [\"addLight\", [\"instance:${000001b426aaf0b0}\"]], [\"addLight\", [\"instance:${000001b4a88c6310}\"]], [\"addLight\", [\"instance:${000001b4a88c69f0}\"]], [\"addLight\", [\"instance:${000001b4a88c65d0}\"]]]}], \"calls\": [[\"addRenderer\", [\"instance:${000001b4afb3e120}\"]]], \"mtime\": 1027351, \"extra\": {\"vtkRefId\": \"000001b43d744c50\", \"centerOfRotation\": [0.1, 0.09999999999999999, 0.2], \"camera\": \"000001b411a53ad0\"}}}{\"wslink\": \"1.0\", \"id\": \"publish:trame.vtk.delta:0\", \"result\": {\"parent\": \"0x0\", \"id\": 22, \"type\": \"vtkWin32OpenGLRenderWindow\", \"properties\": {\"numberOfLayers\": 2}, \"dependencies\": [{\"parent\": \"000001b43d744c50\", \"id\": \"000001b4afb3e120\", \"type\": \"vtkOpenGLRenderer\", \"properties\": {\"background\": [1.0, 1.0, 1.0], \"background2\": [0.2, 0.2, 0.2], \"viewport\": [0.0, 0.0, 1.0, 1.0], \"twoSidedLighting\": 1, \"lightFollowCamera\": 1, \"layer\": 0, \"preserveColorBuffer\": 0, \"preserveDepthBuffer\": 0, \"nearClippingPlaneTolerance\": 0.001, \"clippingRangeExpansion\": 0.5, \"useShadows\": 0, \"useDepthPeeling\": 0, \"occlusionRatio\": 0.0, \"maximumNumberOfPeels\": 4, \"interactive\": 1}, \"dependencies\": [{\"parent\": \"000001b4afb3e120\", \"id\": \"000001b411a53ad0\", \"type\": \"vtkOpenGLCamera\", \"properties\": {\"focalPoint\": [0.1, 0.09999999999999999, 0.2], \"position\": [0.8141757092628397, 0.8141757092628397, 0.9141757092628398], \"viewUp\": [0.0, 0.0, 1.0], \"clippingRange\": [0.7076015617757196, 1.9063615341284046]}}, {\"parent\": \"000001b4afb3e120\", \"id\": \"000001b4885198e0\", \"type\": \"vtkOpenGLActor\", \"properties\": {}, \"calls\": [[\"setMapper\", [\"instance:${000001b4afbbe680}\"]], [\"setProperty\", [\"instance:${000001b4afa39a40}\"]]], \"dependencies\": [{\"parent\": \"000001b4885198e0\", \"id\": \"000001b4afbbe680\", \"type\": \"vtkMapper\", \"properties\": {}, \"calls\": [[\"setInputData\", [\"instance:${000001b4afbbe680-dataset}\"]], [\"setLookupTable\", [\"instance:${000001b4c5da4660}\"]]], \"dependencies\": [{\"parent\": \"000001b4afbbe680\", \"id\": \"000001b4afbbe680-dataset\", \"type\": \"vtkPolyData\", \"properties\": {\"points\": {\"hash\": \"ba4a38084f5b42c00fdf73ca62cc81b6_30000d\", \"vtkClass\": \"vtkPoints\", \"name\": \"Points\", \"dataType\": \"Float64Array\", \"numberOfComponents\": 3, \"size\": 30000, \"ranges\": [{\"min\": 0.1, \"max\": 0.1, \"component\": null}, {\"min\": -0.15, \"max\": 0.35, \"component\": null}, {\"min\": 0.0, \"max\": 0.4, \"component\": null}, {\"min\": 0.10001147776187425, \"max\": 0.5408326913195983, \"component\": null}]}, \"verts\": {\"hash\": \"a690cc02e4059c96b40b93b29a2734ba_20000L\", \"vtkClass\": \"vtkCellArray\", \"name\": null, \"dataType\": \"Uint32Array\", \"numberOfComponents\": 1, \"size\": 20000, \"ranges\": [{\"min\": 0.0, \"max\": 9999.0, \"component\": null}]}, \"fields\": [{\"hash\": \"edf0c5bf34a02699d3c01e25ac87a5df_10000d\", \"vtkClass\": \"vtkDataArray\", \"name\": \"Sound Pressure(dB)\", \"dataType\": \"Float64Array\", \"numberOfComponents\": 1, \"size\": 10000, \"ranges\": [{\"min\": -13.530137152956897, \"max\": -13.530137152956897, \"component\": null}], \"location\": \"pointData\", \"registration\": \"setScalars\"}]}}, {\"parent\": \"000001b4afbbe680\", \"id\": \"000001b4c5da4660\", \"type\": \"vtkLookupTable\", \"properties\": {}}]}, {\"parent\": \"000001b4885198e0\", \"id\": \"000001b4afa39a40\", \"type\": \"vtkOpenGLProperty\", \"properties\": {}}]}, {\"parent\": \"000001b4afb3e120\", \"id\": \"000001b4274b6d90\", \"type\": \"vtkScalarBarActor\", \"properties\": {}, \"calls\": [[\"setScalarsToColors\", [\"instance:${000001b4c5da4660}\"]]], \"dependencies\": [{\"parent\": \"000001b4274b6d90\", \"id\": \"000001b4c5da4660\", \"type\": \"vtkLookupTable\", \"properties\": {}}]}, {\"parent\": \"000001b4afb3e120\", \"id\": \"000001b426aaef50\", \"type\": \"vtkOpenGLLight\", \"properties\": {\"position\": [0.8141757092628397, 0.8141757092628397, 0.9141757092628398], \"focalPoint\": [0.1, 0.09999999999999999, 0.2]}}, {\"parent\": \"000001b4afb3e120\", \"id\": \"000001b426aaf0b0\", \"type\": \"vtkOpenGLLight\", \"properties\": {}}, {\"parent\": \"000001b4afb3e120\", \"id\": \"000001b4a88c6310\", \"type\": \"vtkOpenGLLight\", \"properties\": {}}, {\"parent\": \"000001b4afb3e120\", \"id\": \"000001b4a88c69f0\", \"type\": \"vtkOpenGLLight\", \"properties\": {}}, {\"parent\": \"000001b4afb3e120\", \"id\": \"000001b4a88c65d0\", \"type\": \"vtkOpenGLLight\", \"properties\": {}}], \"calls\": [[\"setActiveCamera\", [\"instance:${000001b411a53ad0}\"]]]}], \"calls\": [], \"mtime\": 1029989, \"extra\": {\"vtkRefId\": \"000001b43d744c50\", \"centerOfRotation\": [0.1, 0.09999999999999999, 0.2], \"camera\": \"000001b411a53ad0\"}}}\n",
      " JS Error => Malformed message:  \n"
     ]
    }
   ],
   "source": [
    "import pyvista as pv\n",
    "plotter_plane = pv.Plotter()\n",
    "plotter_plane.add_mesh(cloud, cmap='rainbow', scalars='Sound Pressure(dB)',show_scalar_bar = True, point_size = 6)\n",
    "plotter_plane.show()"
   ]
  },
  {
   "cell_type": "code",
   "execution_count": 98,
   "metadata": {},
   "outputs": [
    {
     "name": "stderr",
     "output_type": "stream",
     "text": [
      "Task exception was never retrieved\n",
      "future: <Task finished name='Task-1566' coro=<WebSocketWriter.ping() done, defined at c:\\Users\\ZHLI\\AppData\\Local\\anaconda3\\envs\\jpylab-env\\lib\\site-packages\\aiohttp\\http_websocket.py:705> exception=ConnectionResetError('Cannot write to closing transport')>\n",
      "Traceback (most recent call last):\n",
      "  File \"c:\\Users\\ZHLI\\AppData\\Local\\anaconda3\\envs\\jpylab-env\\lib\\asyncio\\tasks.py\", line 232, in __step\n",
      "    result = coro.send(None)\n",
      "  File \"c:\\Users\\ZHLI\\AppData\\Local\\anaconda3\\envs\\jpylab-env\\lib\\site-packages\\aiohttp\\http_websocket.py\", line 709, in ping\n",
      "    await self._send_frame(message, WSMsgType.PING)\n",
      "  File \"c:\\Users\\ZHLI\\AppData\\Local\\anaconda3\\envs\\jpylab-env\\lib\\site-packages\\aiohttp\\http_websocket.py\", line 686, in _send_frame\n",
      "    self._write(header + message)\n",
      "  File \"c:\\Users\\ZHLI\\AppData\\Local\\anaconda3\\envs\\jpylab-env\\lib\\site-packages\\aiohttp\\http_websocket.py\", line 696, in _write\n",
      "    raise ConnectionResetError(\"Cannot write to closing transport\")\n",
      "ConnectionResetError: Cannot write to closing transport\n"
     ]
    },
    {
     "ename": "NameError",
     "evalue": "name 'processor' is not defined",
     "output_type": "error",
     "traceback": [
      "\u001b[1;31m---------------------------------------------------------------------------\u001b[0m",
      "\u001b[1;31mNameError\u001b[0m                                 Traceback (most recent call last)",
      "Cell \u001b[1;32mIn[98], line 1\u001b[0m\n\u001b[1;32m----> 1\u001b[0m \u001b[43mprocessor\u001b[49m\u001b[38;5;241m.\u001b[39mpcd_crop()\n",
      "\u001b[1;31mNameError\u001b[0m: name 'processor' is not defined"
     ]
    }
   ],
   "source": [
    "processor.pcd_crop()"
   ]
  },
  {
   "cell_type": "code",
   "execution_count": 34,
   "metadata": {},
   "outputs": [
    {
     "name": "stderr",
     "output_type": "stream",
     "text": [
      "Task exception was never retrieved\n",
      "future: <Task finished name='Task-518' coro=<WebSocketWriter.ping() done, defined at c:\\Users\\ZHLI\\AppData\\Local\\anaconda3\\envs\\jpylab-env\\lib\\site-packages\\aiohttp\\http_websocket.py:705> exception=ConnectionResetError('Cannot write to closing transport')>\n",
      "Traceback (most recent call last):\n",
      "  File \"c:\\Users\\ZHLI\\AppData\\Local\\anaconda3\\envs\\jpylab-env\\lib\\asyncio\\tasks.py\", line 232, in __step\n",
      "    result = coro.send(None)\n",
      "  File \"c:\\Users\\ZHLI\\AppData\\Local\\anaconda3\\envs\\jpylab-env\\lib\\site-packages\\aiohttp\\http_websocket.py\", line 709, in ping\n",
      "    await self._send_frame(message, WSMsgType.PING)\n",
      "  File \"c:\\Users\\ZHLI\\AppData\\Local\\anaconda3\\envs\\jpylab-env\\lib\\site-packages\\aiohttp\\http_websocket.py\", line 686, in _send_frame\n",
      "    self._write(header + message)\n",
      "  File \"c:\\Users\\ZHLI\\AppData\\Local\\anaconda3\\envs\\jpylab-env\\lib\\site-packages\\aiohttp\\http_websocket.py\", line 696, in _write\n",
      "    raise ConnectionResetError(\"Cannot write to closing transport\")\n",
      "ConnectionResetError: Cannot write to closing transport\n",
      "Task exception was never retrieved\n",
      "future: <Task finished name='Task-519' coro=<WebSocketWriter.ping() done, defined at c:\\Users\\ZHLI\\AppData\\Local\\anaconda3\\envs\\jpylab-env\\lib\\site-packages\\aiohttp\\http_websocket.py:705> exception=ConnectionResetError('Cannot write to closing transport')>\n",
      "Traceback (most recent call last):\n",
      "  File \"c:\\Users\\ZHLI\\AppData\\Local\\anaconda3\\envs\\jpylab-env\\lib\\asyncio\\tasks.py\", line 232, in __step\n",
      "    result = coro.send(None)\n",
      "  File \"c:\\Users\\ZHLI\\AppData\\Local\\anaconda3\\envs\\jpylab-env\\lib\\site-packages\\aiohttp\\http_websocket.py\", line 709, in ping\n",
      "    await self._send_frame(message, WSMsgType.PING)\n",
      "  File \"c:\\Users\\ZHLI\\AppData\\Local\\anaconda3\\envs\\jpylab-env\\lib\\site-packages\\aiohttp\\http_websocket.py\", line 686, in _send_frame\n",
      "    self._write(header + message)\n",
      "  File \"c:\\Users\\ZHLI\\AppData\\Local\\anaconda3\\envs\\jpylab-env\\lib\\site-packages\\aiohttp\\http_websocket.py\", line 696, in _write\n",
      "    raise ConnectionResetError(\"Cannot write to closing transport\")\n",
      "ConnectionResetError: Cannot write to closing transport\n"
     ]
    },
    {
     "data": {
      "application/vnd.jupyter.widget-view+json": {
       "model_id": "6fd09da93eec45ba971012a8db0d8a7c",
       "version_major": 2,
       "version_minor": 0
      },
      "text/plain": [
       "Dropdown(description='Select:', options=(('Plane: xy, Position: 0', ('xy', 0)), ('Plane: xy, Position: 0.2', (…"
      ]
     },
     "metadata": {},
     "output_type": "display_data"
    },
    {
     "name": "stdout",
     "output_type": "stream",
     "text": [
      "A view with name (P_0x1a479990ac0_6) is already registered\n",
      " => returning previous one\n"
     ]
    },
    {
     "data": {
      "application/vnd.jupyter.widget-view+json": {
       "model_id": "f1f5dfa0940f439d87a3b3c7695fad7d",
       "version_major": 2,
       "version_minor": 0
      },
      "text/plain": [
       "Widget(value=\"<iframe src='http://localhost:65488/index.html?ui=P_0x1a479990ac0_6&reconnect=auto' style='width…"
      ]
     },
     "metadata": {},
     "output_type": "display_data"
    }
   ],
   "source": [
    "import ipywidgets as widgets\n",
    "from IPython.display import display\n",
    "\n",
    "# 步骤 1：存储结构\n",
    "results = {}\n",
    "\n",
    "# 步骤 2：执行计算\n",
    "# 假设 add_slicer 返回计算结果\n",
    "for plane in ['xy', 'yz']:\n",
    "    for position in [0, 0.2, 0.4]:\n",
    "        # 根据参数进行计算\n",
    "        plotter, cloud = BF_analysis.add_slicer(plotter, mode, plane=plane, \n",
    "                                                center=[0.1, 0.1], position=position, \n",
    "                                                size=[0.5, 0.4], plot_mesh=False,\n",
    "                                                dynamic_range=40)\n",
    "        # 存储结果\n",
    "        results[(plane, position)] = (plotter, cloud)\n",
    "\n",
    "# 步骤 3：创建下拉菜单\n",
    "dropdown = widgets.Dropdown(\n",
    "    options=[(f'Plane: {k[0]}, Position: {k[1]}', k) for k in results.keys()],\n",
    "    description='Select:',\n",
    "    disabled=False,\n",
    ")\n",
    "\n",
    "# 步骤 4：定义响应函数\n",
    "def on_dropdown_change(change):\n",
    "    if change['type'] == 'change' and change['name'] == 'value':\n",
    "        # 获取选中的结果\n",
    "        plotter, cloud = results[change['new']]\n",
    "        # 显示结果\n",
    "        plotter.show()  # 或其他适合的显示方法\n",
    "\n",
    "# 绑定响应函数\n",
    "dropdown.observe(on_dropdown_change, names='value')\n",
    "\n",
    "# 显示下拉菜单\n",
    "display(dropdown)"
   ]
  },
  {
   "cell_type": "code",
   "execution_count": 46,
   "metadata": {},
   "outputs": [
    {
     "name": "stdout",
     "output_type": "stream",
     "text": [
      "A view with name (P_0x1c5a4e4a020_22) is already registered\n",
      " => returning previous one\n"
     ]
    },
    {
     "data": {
      "application/vnd.jupyter.widget-view+json": {
       "model_id": "6d46b66da1bc4458803a99f1e2caea99",
       "version_major": 2,
       "version_minor": 0
      },
      "text/plain": [
       "Widget(value=\"<iframe src='http://localhost:53282/index.html?ui=P_0x1c5a4e4a020_22&reconnect=auto' style='widt…"
      ]
     },
     "metadata": {},
     "output_type": "display_data"
    }
   ],
   "source": [
    "plotter_add_slice.show()"
   ]
  },
  {
   "cell_type": "code",
   "execution_count": 60,
   "metadata": {},
   "outputs": [
    {
     "ename": "TypeError",
     "evalue": "object of type 'int' has no len()",
     "output_type": "error",
     "traceback": [
      "\u001b[1;31m---------------------------------------------------------------------------\u001b[0m",
      "\u001b[1;31mTypeError\u001b[0m                                 Traceback (most recent call last)",
      "Cell \u001b[1;32mIn[60], line 8\u001b[0m\n\u001b[0;32m      6\u001b[0m plt\u001b[38;5;241m.\u001b[39mylabel(\u001b[38;5;124m'\u001b[39m\u001b[38;5;124mEigenvalue\u001b[39m\u001b[38;5;124m'\u001b[39m)\n\u001b[0;32m      7\u001b[0m plt\u001b[38;5;241m.\u001b[39mtitle(\u001b[38;5;124m'\u001b[39m\u001b[38;5;124mEigenvalue Plot\u001b[39m\u001b[38;5;124m'\u001b[39m)\n\u001b[1;32m----> 8\u001b[0m plt\u001b[38;5;241m.\u001b[39mxticks(\u001b[38;5;28mrange\u001b[39m(\u001b[38;5;28;43mlen\u001b[39;49m\u001b[43m(\u001b[49m\u001b[43meigenval\u001b[49m\u001b[43m)\u001b[49m), \u001b[38;5;28mrange\u001b[39m(\u001b[38;5;28mlen\u001b[39m(eigenval)))\n\u001b[0;32m      9\u001b[0m plt\u001b[38;5;241m.\u001b[39mshow()\n",
      "\u001b[1;31mTypeError\u001b[0m: object of type 'int' has no len()"
     ]
    },
    {
     "data": {
      "image/png": "[encoded data removed]",
      "text/plain": [
       "<Figure size 640x480 with 1 Axes>"
      ]
     },
     "metadata": {},
     "output_type": "display_data"
    }
   ],
   "source": [
    "import matplotlib.pyplot as plt\n",
    "\n",
    "eigenval = BF_analysis.eigVal\n",
    "plt.plot(eigenval)\n",
    "plt.xlabel('Index')\n",
    "plt.ylabel('Eigenvalue')\n",
    "plt.title('Eigenvalue Plot')\n",
    "plt.xticks(range(len(eigenval)), range(len(eigenval)))\n",
    "plt.show()\n",
    "\n"
   ]
  }
 ],
 "metadata": {
  "kernelspec": {
   "display_name": "Python 3",
   "language": "python",
   "name": "python3"
  },
  "language_info": {
   "codemirror_mode": {
    "name": "ipython",
    "version": 3
   },
   "file_extension": ".py",
   "mimetype": "text/x-python",
   "name": "python",
   "nbconvert_exporter": "python",
   "pygments_lexer": "ipython3",
   "version": "3.10.9"
  }
 },
 "nbformat": 4,
 "nbformat_minor": 2
}
